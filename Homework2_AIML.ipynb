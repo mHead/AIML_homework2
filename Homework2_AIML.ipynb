{
  "nbformat": 4,
  "nbformat_minor": 0,
  "metadata": {
    "colab": {
      "name": "Homework2-AIML.ipynb",
      "provenance": [],
      "collapsed_sections": []
    },
    "kernelspec": {
      "name": "python3",
      "display_name": "Python 3"
    },
    "accelerator": "GPU"
  },
  "cells": [
    {
      "cell_type": "markdown",
      "metadata": {
        "id": "c9QcGnGPdX2C",
        "colab_type": "text"
      },
      "source": [
        "\n",
        "**Install requirements**"
      ]
    },
    {
      "cell_type": "code",
      "metadata": {
        "id": "k9O3aM3Tb28q",
        "colab_type": "code",
        "outputId": "3585771f-3d91-4c16-f964-ec7cde503610",
        "colab": {
          "base_uri": "https://localhost:8080/",
          "height": 187
        }
      },
      "source": [
        "!pip3 install 'torch==1.3.1'\n",
        "!pip3 install 'torchvision==0.4.2'\n",
        "!pip3 install 'Pillow-SIMD'\n",
        "!pip3 install 'tqdm'"
      ],
      "execution_count": 1,
      "outputs": [
        {
          "output_type": "stream",
          "text": [
            "Requirement already satisfied: torch==1.3.1 in /usr/local/lib/python3.6/dist-packages (1.3.1)\n",
            "Requirement already satisfied: numpy in /usr/local/lib/python3.6/dist-packages (from torch==1.3.1) (1.17.4)\n",
            "Requirement already satisfied: torchvision==0.4.2 in /usr/local/lib/python3.6/dist-packages (0.4.2)\n",
            "Requirement already satisfied: torch==1.3.1 in /usr/local/lib/python3.6/dist-packages (from torchvision==0.4.2) (1.3.1)\n",
            "Requirement already satisfied: pillow>=4.1.1 in /usr/local/lib/python3.6/dist-packages (from torchvision==0.4.2) (4.3.0)\n",
            "Requirement already satisfied: numpy in /usr/local/lib/python3.6/dist-packages (from torchvision==0.4.2) (1.17.4)\n",
            "Requirement already satisfied: six in /usr/local/lib/python3.6/dist-packages (from torchvision==0.4.2) (1.12.0)\n",
            "Requirement already satisfied: olefile in /usr/local/lib/python3.6/dist-packages (from pillow>=4.1.1->torchvision==0.4.2) (0.46)\n",
            "Requirement already satisfied: Pillow-SIMD in /usr/local/lib/python3.6/dist-packages (6.0.0.post0)\n",
            "Requirement already satisfied: tqdm in /usr/local/lib/python3.6/dist-packages (4.28.1)\n"
          ],
          "name": "stdout"
        }
      ]
    },
    {
      "cell_type": "markdown",
      "metadata": {
        "id": "fo942LMOdlh4",
        "colab_type": "text"
      },
      "source": [
        "**Import libraries**"
      ]
    },
    {
      "cell_type": "code",
      "metadata": {
        "id": "DokFOdD1dJEl",
        "colab_type": "code",
        "colab": {}
      },
      "source": [
        "import os\n",
        "import logging\n",
        "\n",
        "import torch\n",
        "import torch.nn as nn\n",
        "import torch.optim as optim\n",
        "from torch.utils.data import Subset, DataLoader\n",
        "from torch.backends import cudnn\n",
        "\n",
        "import torchvision\n",
        "from torchvision import transforms\n",
        "from torchvision.models import alexnet\n",
        "\n",
        "from PIL import Image\n",
        "from tqdm import tqdm\n",
        "\n",
        "import numpy as np\n",
        "import matplotlib.pyplot as plt"
      ],
      "execution_count": 0,
      "outputs": []
    },
    {
      "cell_type": "markdown",
      "metadata": {
        "id": "OIDLJuIXK_vh",
        "colab_type": "text"
      },
      "source": [
        "**Set Arguments**"
      ]
    },
    {
      "cell_type": "code",
      "metadata": {
        "id": "d5PkYfqfK_SA",
        "colab_type": "code",
        "colab": {}
      },
      "source": [
        "DEVICE = 'cuda' # 'cuda' or 'cpu'\n",
        "\n",
        "NUM_CLASSES = 101 # UPDATED, 101 + 1: There is am extra Background class that should be removed \n",
        "\n",
        "BATCH_SIZE = 256     # Higher batch sizes allows for larger learning rates. An empirical heuristic suggests that, when changing\n",
        "                     # the batch size, learning rate should change by the same factor to have comparable results\n",
        "\n",
        "LR = 0.01           # The initial Learning Rate\n",
        "MOMENTUM = 0.9       # Hyperparameter for SGD, keep this at 0.9 when using SGD\n",
        "WEIGHT_DECAY = 5e-5  # Regularization, you can keep this at the default\n",
        "\n",
        "NUM_EPOCHS = 30 #was 30     # Total number of training epochs (iterations over dataset)\n",
        "STEP_SIZE = 20 #was 20      # How many epochs before decreasing learning rate (if using a step-down policy)\n",
        "GAMMA = 0.8          # Multiplicative factor for learning rate step-down\n",
        "\n",
        "LOG_FREQUENCY = 10"
      ],
      "execution_count": 0,
      "outputs": []
    },
    {
      "cell_type": "markdown",
      "metadata": {
        "id": "9gwii0TBHvzh",
        "colab_type": "text"
      },
      "source": [
        "**Define Data Preprocessing**"
      ]
    },
    {
      "cell_type": "code",
      "metadata": {
        "id": "QUDdw4j2H0Mc",
        "colab_type": "code",
        "colab": {}
      },
      "source": [
        "# Define transforms for training phase\n",
        "train_transform = transforms.Compose([transforms.Resize(256),      # Resizes short size of the PIL image to 256\n",
        "                                      transforms.CenterCrop(224),  # Crops a central square patch of the image\n",
        "                                                                   # 224 because torchvision's AlexNet needs a 224x224 input!\n",
        "                                                                   # Remember this when applying different transformations, otherwise you get an error\n",
        "                                      transforms.ToTensor(), # Turn PIL Image to torch.Tensor\n",
        "                                      transforms.Normalize((0.485, 0.456, 0.406), (0.229, 0.224, 0.225)) # Normalizes tensor with mean and standard deviation\n",
        "])\n",
        "# Define transforms for the evaluation phase\n",
        "eval_transform = transforms.Compose([transforms.Resize(256),\n",
        "                                      transforms.CenterCrop(224),\n",
        "                                      transforms.ToTensor(),\n",
        "                                      transforms.Normalize((0.485, 0.456, 0.406), (0.229, 0.224, 0.225))                                    \n",
        "])\n",
        "\n",
        "#Point4 Data Augmentation\n",
        "train_aug_transform_1 = transforms.Compose([transforms.Resize(256),\n",
        "                                          transforms.ColorJitter(brightness=20, contrast=10, saturation=30),\n",
        "                                          transforms.CenterCrop(224),\n",
        "                                          transforms.ToTensor(),\n",
        "                                          transforms.Normalize((0.485, 0.456, 0.406), (0.229, 0.224, 0.225))\n",
        "])\n",
        "train_aug_transform_2 = transforms.Compose([transforms.Resize(256),\n",
        "                                          transforms.ColorJitter(contrast=10, hue=0.2),\n",
        "                                          transforms.RandomHorizontalFlip(p=0.5),\n",
        "                                          transforms.CenterCrop(224),\n",
        "                                          transforms.ToTensor(),\n",
        "                                          transforms.Normalize((0.485, 0.456, 0.406), (0.229, 0.224, 0.225))\n",
        "])\n",
        "\n",
        "train_aug_transform_3 = transforms.Compose([transforms.Resize(256),\n",
        "                                          transforms.RandomRotation(degrees=15),\n",
        "                                          transforms.CenterCrop(224),\n",
        "                                          transforms.ToTensor(),\n",
        "                                          transforms.Normalize((0.485, 0.456, 0.406), (0.229, 0.224, 0.225))\n",
        "])"
      ],
      "execution_count": 0,
      "outputs": []
    },
    {
      "cell_type": "markdown",
      "metadata": {
        "id": "2qYIHPzYLY7i",
        "colab_type": "text"
      },
      "source": [
        "**Prepare Dataset**"
      ]
    },
    {
      "cell_type": "markdown",
      "metadata": {
        "id": "RAhYRJjajxSM",
        "colab_type": "text"
      },
      "source": [
        "## Filter out Background class"
      ]
    },
    {
      "cell_type": "code",
      "metadata": {
        "id": "AI69Nhr9_-3p",
        "colab_type": "code",
        "colab": {}
      },
      "source": [
        "from torchvision.datasets import VisionDataset\n",
        "\n",
        "from PIL import Image\n",
        "from IPython.core.debugger import set_trace\n",
        "\n",
        "import re\n",
        "import os\n",
        "import os.path\n",
        "import sys\n",
        "\n",
        "IMG_EXTENSIONS = ('.jpg', '.jpeg', '.png', '.ppm', '.bmp', '.pgm', '.tif', '.tiff', '.webp')\n",
        "\n",
        "def has_file_allowed_extension(filename, extensions):\n",
        "    \"\"\"Checks if a file is an allowed extension.\n",
        "\n",
        "    Args:\n",
        "        filename (string): path to a file\n",
        "        extensions (tuple of strings): extensions to consider (lowercase)\n",
        "\n",
        "    Returns:\n",
        "        bool: True if the filename ends with one of given extensions\n",
        "    \"\"\"\n",
        "    return filename.lower().endswith(extensions)\n",
        "\n",
        "\n",
        "def is_image_file(filename):\n",
        "    \"\"\"Checks if a file is an allowed image extension.\n",
        "\n",
        "    Args:\n",
        "        filename (string): path to a file\n",
        "\n",
        "    Returns:\n",
        "        bool: True if the filename ends with a known image extension\n",
        "    \"\"\"\n",
        "    return has_file_allowed_extension(filename, IMG_EXTENSIONS)\n",
        "\n",
        "\n",
        "def make_dataset(dir, class_to_idx, extensions=None, is_valid_file=None, split=None):\n",
        "    #set_trace()\n",
        "    dir = os.path.expanduser(dir)\n",
        "    home = dir.split('/') # home = Homework2-Caltech101\n",
        "    images = []\n",
        "    #set_trace()\n",
        "\n",
        "    if not ((extensions is None) ^ (is_valid_file is None)):\n",
        "        raise ValueError(\"Both extensions and is_valid_file cannot be None or not None at the same time\")\n",
        "    if extensions is not None:\n",
        "        def is_valid_file(x):\n",
        "            return has_file_allowed_extension(x, extensions)\n",
        "\n",
        "    if split == 'train':\n",
        "        train_images_paths = [line.rstrip('\\n') for line in open(home[0]+'/train.txt')  if 'BACKGROUND_Google/' not in line]  \n",
        "      \n",
        "        for tip in train_images_paths:\n",
        "          path = os.path.join(dir, tip)\n",
        "          if is_valid_file(path):\n",
        "            #set_trace()\n",
        "            target = tip.split('/')[0]\n",
        "            item = (path, class_to_idx[target])\n",
        "            images.append(item)\n",
        "\n",
        "    elif split == 'test':\n",
        "        test_images_paths = [line.rstrip('\\n') for line in open(home[0]+'/test.txt') if 'BACKGROUND_Google/' not in line]\n",
        "\n",
        "        for tip in test_images_paths:     \n",
        "          path = os.path.join(dir, tip)\n",
        "          if is_valid_file(path):\n",
        "            #set_trace()\n",
        "            target = tip.split('/')[0]\n",
        "\n",
        "            item = (path, class_to_idx[target])\n",
        "            images.append(item)\n",
        "\n",
        "    else: \n",
        "        RuntimeError(\"This function create dataset folder based on a split: <train or test>\")\n",
        "\n",
        "    return images\n",
        "\n",
        "\n",
        "\n",
        "def pil_loader(path):\n",
        "    # open path as file to avoid ResourceWarning (https://github.com/python-pillow/Pillow/issues/835)\n",
        "    with open(path, 'rb') as f:\n",
        "        img = Image.open(f)\n",
        "        return img.convert('RGB')\n",
        "\n",
        "\n",
        "def accimage_loader(path):\n",
        "    import accimage\n",
        "    try:\n",
        "        return accimage.Image(path)\n",
        "    except IOError:\n",
        "        # Potentially a decoding problem, fall back to PIL.Image\n",
        "        return pil_loader(path)\n",
        "\n",
        "\n",
        "def default_loader(path):\n",
        "    #set_trace()\n",
        "    from torchvision import get_image_backend\n",
        "    if get_image_backend() == 'accimage':\n",
        "        return accimage_loader(path)\n",
        "    else:\n",
        "        return pil_loader(path)\n",
        "\n",
        "class Caltech(VisionDataset):\n",
        "\n",
        "    def __init__(self, root, loader, extensions=None, transform=None,\n",
        "                 target_transform=None, is_valid_file=None, split=None):\n",
        "        super(Caltech, self).__init__(root, transform=transform,\n",
        "                                            target_transform=target_transform)\n",
        "        \n",
        "        self.split = split\n",
        "        self.loader = pil_loader\n",
        "        self.extensions = extensions\n",
        "        classes, class_to_idx = self._find_classes(self.root)\n",
        "        samples = make_dataset(self.root, class_to_idx, IMG_EXTENSIONS, is_valid_file, self.split)\n",
        "        #set_trace()\n",
        "        if len(samples) == 0:\n",
        "            raise (RuntimeError(\"Found 0 files in subfolders of: \" + self.root + \"\\n\"\n",
        "                                \"Supported extensions are: \" + \",\".join(extensions)))\n",
        "\n",
        "\n",
        "        self.classes = classes\n",
        "        self.class_to_idx = class_to_idx\n",
        "        self.samples = samples\n",
        "        self.targets = [s[1] for s in samples]\n",
        "        print('\\n[{}] Number of classes: {}'.format(self.split, len(classes)))\n",
        "\n",
        "    def _find_classes(self, dir):\n",
        "        classes = []\n",
        "        #set_trace()\n",
        "        home = dir.split('/')[0]\n",
        "        train_images_paths = [line.rstrip('\\n') for line in open(home+'/train.txt')  if 'BACKGROUND_Google/' not in line]  \n",
        "\n",
        "        for tip in train_images_paths:\n",
        "          #set_trace()\n",
        "          label = tip.split('/')[0]\n",
        "          if label not in classes:\n",
        "            classes.append(label)\n",
        "        \n",
        "        \n",
        "\n",
        "        #classes = [d.name for d in os.scandir(dir) if (d.is_dir() and (re.match(r'[^BACKGROUND_Google+]', d.name)))]\n",
        "        #set_trace()\n",
        "        classes = sorted(classes, key = lambda s: s.casefold())\n",
        "        #classes.sort()\n",
        "        class_to_idx = {classes[i]: i for i in range(len(classes))}\n",
        "\n",
        "        return classes, class_to_idx\n",
        "\n",
        "    def __getitem__(self, index):\n",
        "        \"\"\"\n",
        "        Args:\n",
        "            index (int): Index\n",
        "\n",
        "        Returns:\n",
        "            tuple: (sample, target) where target is class_index of the target class.\n",
        "        \"\"\"\n",
        "        #set_trace()\n",
        "        path, target = self.samples[index]\n",
        "        sample = self.loader(path)\n",
        "        if self.transform is not None:\n",
        "            sample = self.transform(sample)\n",
        "        if self.target_transform is not None:\n",
        "            target = self.target_transform(target)\n",
        "\n",
        "        return sample, target\n",
        "\n",
        "\n",
        "    def __len__(self):\n",
        "        \n",
        "        return len(self.samples)\n",
        "\n",
        "\n",
        "\n",
        "IMG_EXTENSIONS = ('.jpg', '.jpeg', '.png', '.ppm', '.bmp', '.pgm', '.tif', '.tiff', '.webp')\n",
        "\n",
        "\n",
        "\n",
        "\n",
        "class CaltechImageFolder(Caltech):\n",
        "\n",
        "\n",
        "    def __init__(self, root, transform=None, target_transform=None,\n",
        "                 loader=default_loader, is_valid_file=None):\n",
        "        #set_trace()\n",
        "        super(CaltechImageFolder, self).__init__(root, loader, IMG_EXTENSIONS if is_valid_file is None else None,\n",
        "                                          transform=transform,\n",
        "                                          target_transform=target_transform,\n",
        "                                          is_valid_file=is_valid_file)\n",
        "        \n",
        "        self.imgs = self.samples"
      ],
      "execution_count": 0,
      "outputs": []
    },
    {
      "cell_type": "code",
      "metadata": {
        "id": "QfVq_uDHLbsR",
        "colab_type": "code",
        "outputId": "4edb9915-e05a-4d7e-b03f-f52c6765814f",
        "colab": {
          "base_uri": "https://localhost:8080/",
          "height": 119
        }
      },
      "source": [
        "# Clone github repository with data\n",
        "if not os.path.isdir('./Homework2-Caltech101'):\n",
        "  !git clone https://github.com/MachineLearning2020/Homework2-Caltech101.git\n",
        "\n",
        "DATA_DIR = 'Homework2-Caltech101/101_ObjectCategories'\n",
        "train_split_paths = 'Homework2-Caltech101/train.txt'\n",
        "test_split_paths = 'Homework2-Caltech101/test.txt'\n",
        "\n",
        "\n",
        "# Prepare Pytorch train/test Datasets\n",
        "train_dataset = Caltech(DATA_DIR, IMG_EXTENSIONS, split='train', transform=train_aug_transform_3)\n",
        "test_dataset = Caltech(DATA_DIR, IMG_EXTENSIONS, split='test', transform=eval_transform)\n",
        "\n",
        "\n",
        "\n",
        "#train_ds_imageFolder = CaltechImageFolder(train_dataset_folder)\n",
        "#test_ds_imageFolder = CaltechImageFolder(test_dataset_folder)\n",
        "\n",
        "#train_dataset = torchvision.datasets.ImageFolder(DATA_DIR, transform=train_transform)\n",
        "#test_dataset = torchvision.datasets.ImageFolder(DATA_DIR, transform=eval_transform)\n",
        "\n",
        "\n",
        "#train_indexes = [idx for idx in range(len(train_dataset)) if idx % 5]\n",
        "#test_indexes = [idx for idx in range(len(test_dataset)) if not idx % 5]\n",
        "\n",
        "\n",
        "\n",
        "# Check dataset sizes\n",
        "print('Train Dataset Size: {}'.format(len(train_dataset)))\n",
        "print('Test Dataset Size: {}'.format(len(test_dataset)))\n",
        "\n"
      ],
      "execution_count": 6,
      "outputs": [
        {
          "output_type": "stream",
          "text": [
            "\n",
            "[train] Number of classes: 101\n",
            "\n",
            "[test] Number of classes: 101\n",
            "Train Dataset Size: 5784\n",
            "Test Dataset Size: 2893\n"
          ],
          "name": "stdout"
        }
      ]
    },
    {
      "cell_type": "markdown",
      "metadata": {
        "id": "Eez8uzj1MmLI",
        "colab_type": "text"
      },
      "source": [
        "**Validation Set for hyperparameter tuning and model selection**"
      ]
    },
    {
      "cell_type": "code",
      "metadata": {
        "id": "2CHKYz8NMtEt",
        "colab_type": "code",
        "outputId": "9807f73d-4fc4-48cb-8884-6099ef3fb4e1",
        "colab": {
          "base_uri": "https://localhost:8080/",
          "height": 173
        }
      },
      "source": [
        "from torch.utils.data.sampler import SubsetRandomSampler\n",
        "\n",
        "val_split = .5\n",
        "shuffle_dataset = True\n",
        "random_seed = 20\n",
        "#Creating data indexes for training and validation splits:\n",
        "\n",
        "training_big_size = len(train_dataset)\n",
        "print('Initial size of training set: {}\\n'.format(training_big_size))\n",
        "indexes = list(range(training_big_size))\n",
        "split = int(np.floor(val_split * training_big_size))\n",
        "\n",
        "\n",
        "if shuffle_dataset:\n",
        "  np.random.seed(random_seed)\n",
        "  np.random.shuffle(indexes)\n",
        "train_idx, val_idx = indexes[split:], indexes[:split]\n",
        "#set_trace()\n",
        "\n",
        "train_dataset_new = Subset(train_dataset, train_idx)\n",
        "val_dataset_new = Subset(train_dataset, val_idx)\n",
        "print('Index for new training and validation set created:\\nTraining: {}\\nValidation: {}'.format(sorted(train_idx), sorted(val_idx)))\n",
        "print('New sizes:\\ntrain_new: {}\\nval_new: {}'.format(len(train_dataset_new), len(val_dataset_new)))"
      ],
      "execution_count": 7,
      "outputs": [
        {
          "output_type": "stream",
          "text": [
            "Initial size of training set: 5784\n",
            "\n",
            "Index for new training and validation set created:\n",
            "Training: [1, 2, 3, 4, 6, 7, 8, 9, 10, 15, 16, 19, 22, 26, 28, 30, 31, 34, 35, 37, 39, 40, 43, 46, 47, 48, 50, 51, 54, 59, 63, 70, 72, 73, 76, 77, 79, 81, 83, 85, 86, 88, 91, 93, 94, 95, 96, 98, 99, 102, 103, 108, 112, 114, 116, 119, 121, 123, 124, 126, 128, 132, 134, 135, 137, 138, 144, 146, 147, 149, 151, 153, 154, 158, 159, 160, 161, 162, 164, 165, 167, 169, 170, 172, 173, 175, 177, 182, 183, 186, 188, 192, 194, 196, 197, 199, 201, 204, 205, 208, 210, 211, 212, 214, 217, 218, 221, 225, 228, 230, 233, 234, 235, 236, 237, 239, 241, 243, 244, 248, 251, 252, 258, 259, 262, 263, 264, 267, 271, 273, 278, 280, 281, 282, 285, 286, 289, 290, 293, 295, 296, 298, 299, 300, 301, 302, 304, 306, 308, 314, 315, 316, 319, 324, 325, 329, 330, 331, 336, 340, 341, 343, 346, 347, 348, 352, 356, 358, 359, 360, 361, 362, 364, 368, 369, 370, 372, 373, 374, 377, 378, 379, 380, 382, 384, 385, 386, 388, 393, 397, 399, 401, 402, 404, 407, 408, 410, 411, 414, 415, 419, 420, 422, 423, 425, 427, 430, 433, 434, 436, 437, 441, 444, 445, 446, 449, 450, 454, 456, 458, 460, 461, 465, 468, 469, 472, 473, 474, 475, 478, 481, 485, 488, 489, 490, 492, 493, 495, 498, 499, 502, 503, 504, 505, 506, 507, 508, 512, 513, 515, 516, 517, 519, 520, 522, 526, 527, 528, 529, 531, 532, 533, 534, 535, 536, 538, 540, 543, 545, 546, 547, 548, 549, 550, 551, 552, 557, 558, 559, 560, 561, 563, 564, 568, 570, 571, 573, 574, 577, 579, 581, 582, 584, 588, 589, 591, 595, 599, 600, 601, 603, 605, 606, 607, 608, 609, 610, 614, 618, 619, 620, 621, 622, 623, 626, 628, 629, 631, 633, 634, 636, 637, 638, 639, 640, 641, 643, 646, 651, 652, 653, 655, 656, 657, 658, 660, 661, 662, 663, 665, 667, 668, 670, 676, 677, 679, 681, 682, 688, 690, 691, 693, 694, 697, 699, 704, 705, 706, 710, 714, 717, 719, 720, 721, 722, 725, 726, 727, 732, 733, 736, 738, 741, 742, 744, 745, 746, 750, 751, 753, 754, 755, 760, 763, 767, 769, 770, 772, 774, 776, 777, 780, 781, 782, 783, 784, 785, 786, 787, 788, 790, 793, 795, 798, 800, 801, 803, 805, 806, 807, 811, 816, 817, 818, 821, 822, 823, 824, 825, 827, 828, 829, 830, 831, 833, 837, 841, 842, 844, 848, 849, 850, 851, 854, 856, 857, 858, 861, 863, 866, 869, 870, 872, 873, 874, 878, 880, 883, 885, 886, 892, 893, 896, 899, 904, 905, 907, 909, 911, 915, 917, 920, 921, 924, 925, 926, 927, 928, 929, 930, 932, 933, 934, 936, 937, 941, 944, 945, 947, 949, 956, 959, 960, 961, 962, 966, 967, 968, 969, 971, 975, 976, 978, 979, 980, 983, 990, 991, 992, 995, 997, 1001, 1003, 1004, 1006, 1007, 1008, 1009, 1010, 1012, 1014, 1017, 1021, 1024, 1026, 1027, 1028, 1030, 1032, 1033, 1036, 1038, 1044, 1045, 1046, 1047, 1048, 1049, 1051, 1055, 1057, 1058, 1059, 1062, 1064, 1065, 1066, 1067, 1072, 1074, 1079, 1085, 1088, 1090, 1093, 1094, 1098, 1099, 1100, 1102, 1105, 1106, 1108, 1109, 1110, 1111, 1112, 1115, 1116, 1117, 1124, 1125, 1126, 1129, 1131, 1132, 1133, 1134, 1135, 1139, 1140, 1144, 1145, 1146, 1147, 1150, 1151, 1153, 1154, 1155, 1158, 1159, 1161, 1166, 1171, 1178, 1179, 1180, 1181, 1182, 1184, 1185, 1186, 1190, 1191, 1193, 1194, 1195, 1201, 1204, 1206, 1208, 1211, 1216, 1219, 1220, 1221, 1222, 1223, 1224, 1225, 1230, 1231, 1233, 1235, 1236, 1237, 1238, 1239, 1240, 1241, 1245, 1250, 1252, 1253, 1254, 1258, 1263, 1267, 1268, 1269, 1271, 1273, 1282, 1285, 1287, 1289, 1292, 1295, 1297, 1298, 1299, 1306, 1307, 1308, 1310, 1311, 1314, 1317, 1318, 1319, 1321, 1323, 1327, 1329, 1334, 1335, 1338, 1339, 1341, 1342, 1350, 1351, 1352, 1353, 1357, 1358, 1359, 1367, 1371, 1374, 1376, 1377, 1380, 1381, 1384, 1386, 1393, 1394, 1396, 1397, 1398, 1400, 1401, 1405, 1406, 1408, 1411, 1412, 1413, 1415, 1417, 1418, 1421, 1424, 1425, 1428, 1429, 1430, 1431, 1432, 1433, 1437, 1439, 1440, 1442, 1447, 1452, 1453, 1455, 1458, 1459, 1460, 1461, 1463, 1465, 1469, 1475, 1478, 1479, 1480, 1482, 1484, 1485, 1486, 1487, 1489, 1491, 1493, 1496, 1497, 1499, 1501, 1502, 1503, 1505, 1506, 1507, 1509, 1512, 1513, 1514, 1515, 1517, 1519, 1522, 1524, 1525, 1526, 1528, 1529, 1530, 1532, 1535, 1537, 1540, 1542, 1543, 1544, 1548, 1549, 1552, 1555, 1556, 1559, 1560, 1563, 1565, 1566, 1568, 1569, 1572, 1573, 1579, 1580, 1581, 1582, 1583, 1584, 1585, 1587, 1590, 1591, 1592, 1595, 1596, 1599, 1601, 1604, 1606, 1607, 1611, 1612, 1614, 1615, 1616, 1617, 1619, 1621, 1623, 1624, 1625, 1628, 1630, 1635, 1637, 1638, 1641, 1643, 1644, 1645, 1646, 1648, 1650, 1651, 1652, 1653, 1657, 1658, 1659, 1660, 1661, 1662, 1663, 1667, 1668, 1670, 1671, 1672, 1673, 1674, 1680, 1681, 1684, 1685, 1686, 1687, 1688, 1691, 1693, 1694, 1696, 1697, 1701, 1702, 1703, 1705, 1707, 1710, 1711, 1713, 1716, 1718, 1721, 1723, 1727, 1729, 1730, 1731, 1732, 1734, 1738, 1739, 1742, 1744, 1747, 1748, 1750, 1752, 1757, 1758, 1761, 1762, 1764, 1766, 1767, 1771, 1774, 1776, 1777, 1778, 1780, 1781, 1783, 1784, 1785, 1787, 1790, 1791, 1792, 1794, 1796, 1798, 1799, 1800, 1802, 1806, 1807, 1808, 1809, 1811, 1813, 1815, 1816, 1817, 1818, 1819, 1821, 1823, 1825, 1827, 1829, 1830, 1831, 1834, 1835, 1837, 1839, 1842, 1845, 1850, 1851, 1852, 1853, 1854, 1855, 1860, 1861, 1866, 1867, 1869, 1870, 1871, 1872, 1875, 1876, 1878, 1879, 1881, 1883, 1886, 1887, 1888, 1894, 1896, 1897, 1899, 1900, 1903, 1904, 1905, 1913, 1916, 1917, 1919, 1922, 1923, 1924, 1925, 1927, 1928, 1929, 1932, 1933, 1934, 1936, 1937, 1938, 1943, 1948, 1950, 1951, 1954, 1955, 1956, 1958, 1959, 1961, 1964, 1965, 1966, 1967, 1970, 1971, 1972, 1974, 1975, 1977, 1978, 1981, 1983, 1986, 1987, 1989, 1990, 1991, 1992, 1996, 1998, 2000, 2001, 2005, 2006, 2008, 2009, 2010, 2011, 2015, 2016, 2017, 2019, 2025, 2027, 2028, 2029, 2031, 2033, 2034, 2039, 2042, 2044, 2045, 2047, 2048, 2049, 2051, 2053, 2055, 2058, 2059, 2065, 2068, 2069, 2071, 2073, 2074, 2076, 2077, 2078, 2083, 2085, 2086, 2088, 2090, 2091, 2092, 2094, 2097, 2099, 2100, 2101, 2105, 2107, 2108, 2109, 2112, 2115, 2119, 2120, 2121, 2124, 2125, 2128, 2129, 2130, 2131, 2132, 2134, 2140, 2142, 2143, 2145, 2148, 2149, 2150, 2152, 2154, 2156, 2160, 2161, 2162, 2163, 2165, 2166, 2167, 2168, 2172, 2175, 2176, 2177, 2179, 2180, 2181, 2182, 2183, 2185, 2188, 2192, 2193, 2194, 2195, 2197, 2198, 2201, 2202, 2204, 2205, 2206, 2207, 2208, 2209, 2213, 2214, 2215, 2216, 2225, 2227, 2229, 2230, 2231, 2232, 2236, 2238, 2241, 2242, 2243, 2244, 2247, 2249, 2250, 2252, 2256, 2257, 2260, 2268, 2269, 2272, 2278, 2279, 2280, 2281, 2283, 2287, 2288, 2289, 2290, 2294, 2296, 2302, 2304, 2306, 2307, 2309, 2314, 2316, 2319, 2324, 2325, 2328, 2329, 2332, 2333, 2335, 2336, 2339, 2340, 2341, 2343, 2344, 2349, 2351, 2353, 2354, 2362, 2364, 2367, 2368, 2369, 2370, 2371, 2373, 2377, 2379, 2380, 2384, 2385, 2387, 2388, 2390, 2393, 2398, 2400, 2402, 2404, 2408, 2410, 2411, 2413, 2415, 2418, 2419, 2422, 2423, 2424, 2428, 2430, 2432, 2433, 2434, 2438, 2444, 2445, 2449, 2452, 2453, 2454, 2456, 2458, 2459, 2465, 2466, 2467, 2468, 2470, 2473, 2474, 2476, 2477, 2480, 2481, 2484, 2487, 2489, 2490, 2491, 2497, 2501, 2503, 2507, 2508, 2510, 2511, 2515, 2518, 2519, 2520, 2521, 2522, 2523, 2525, 2526, 2527, 2528, 2531, 2532, 2533, 2534, 2537, 2540, 2541, 2542, 2546, 2547, 2556, 2559, 2560, 2561, 2562, 2565, 2566, 2568, 2569, 2570, 2571, 2573, 2575, 2576, 2578, 2580, 2581, 2585, 2591, 2593, 2595, 2598, 2599, 2604, 2605, 2606, 2609, 2610, 2612, 2614, 2615, 2621, 2622, 2623, 2625, 2626, 2627, 2630, 2632, 2633, 2634, 2639, 2640, 2641, 2642, 2645, 2646, 2647, 2648, 2649, 2656, 2657, 2664, 2665, 2666, 2667, 2668, 2669, 2670, 2672, 2673, 2674, 2679, 2681, 2682, 2684, 2687, 2690, 2693, 2698, 2699, 2700, 2701, 2704, 2706, 2708, 2709, 2711, 2712, 2716, 2721, 2722, 2724, 2725, 2726, 2732, 2733, 2734, 2736, 2738, 2739, 2740, 2743, 2744, 2745, 2747, 2751, 2755, 2756, 2760, 2763, 2764, 2766, 2769, 2770, 2772, 2775, 2778, 2780, 2781, 2782, 2788, 2790, 2792, 2795, 2798, 2799, 2801, 2802, 2803, 2804, 2807, 2808, 2809, 2811, 2812, 2813, 2815, 2816, 2819, 2820, 2821, 2822, 2825, 2831, 2832, 2833, 2834, 2835, 2837, 2839, 2840, 2841, 2842, 2843, 2845, 2848, 2850, 2855, 2858, 2862, 2863, 2864, 2865, 2866, 2869, 2870, 2872, 2873, 2875, 2876, 2877, 2878, 2880, 2881, 2884, 2885, 2886, 2887, 2889, 2890, 2893, 2897, 2898, 2902, 2907, 2909, 2913, 2916, 2919, 2920, 2921, 2922, 2925, 2927, 2929, 2931, 2932, 2934, 2935, 2937, 2939, 2940, 2942, 2944, 2946, 2947, 2948, 2950, 2953, 2954, 2955, 2957, 2960, 2961, 2962, 2964, 2967, 2968, 2970, 2974, 2975, 2976, 2977, 2978, 2980, 2981, 2983, 2985, 2986, 2987, 2989, 2991, 2993, 2995, 2998, 3003, 3007, 3010, 3014, 3019, 3024, 3025, 3026, 3028, 3029, 3033, 3038, 3042, 3045, 3046, 3047, 3048, 3049, 3051, 3053, 3054, 3057, 3058, 3059, 3063, 3065, 3067, 3068, 3072, 3073, 3075, 3076, 3077, 3078, 3079, 3080, 3082, 3089, 3091, 3092, 3093, 3096, 3097, 3104, 3107, 3109, 3112, 3113, 3114, 3115, 3116, 3119, 3120, 3121, 3125, 3126, 3127, 3129, 3132, 3133, 3135, 3137, 3139, 3140, 3141, 3143, 3144, 3148, 3150, 3152, 3153, 3154, 3157, 3158, 3160, 3161, 3163, 3166, 3168, 3169, 3170, 3171, 3175, 3176, 3180, 3181, 3183, 3184, 3186, 3187, 3189, 3190, 3193, 3194, 3195, 3196, 3201, 3203, 3206, 3207, 3208, 3209, 3210, 3211, 3216, 3217, 3221, 3222, 3225, 3226, 3228, 3229, 3233, 3234, 3243, 3245, 3246, 3247, 3248, 3249, 3250, 3252, 3253, 3254, 3255, 3256, 3257, 3258, 3259, 3261, 3262, 3263, 3265, 3269, 3271, 3273, 3274, 3275, 3277, 3278, 3280, 3281, 3287, 3290, 3291, 3292, 3294, 3295, 3296, 3297, 3298, 3300, 3303, 3304, 3306, 3308, 3310, 3311, 3312, 3317, 3318, 3321, 3323, 3325, 3326, 3327, 3331, 3335, 3336, 3339, 3340, 3341, 3343, 3346, 3348, 3350, 3352, 3357, 3358, 3359, 3360, 3361, 3362, 3363, 3365, 3366, 3367, 3370, 3373, 3375, 3376, 3380, 3381, 3383, 3385, 3387, 3388, 3391, 3396, 3397, 3398, 3399, 3401, 3402, 3406, 3408, 3413, 3415, 3416, 3420, 3421, 3425, 3427, 3433, 3435, 3445, 3447, 3450, 3454, 3455, 3456, 3457, 3462, 3463, 3465, 3466, 3467, 3468, 3470, 3472, 3473, 3478, 3479, 3482, 3483, 3485, 3487, 3492, 3496, 3498, 3499, 3501, 3503, 3505, 3506, 3507, 3509, 3514, 3516, 3517, 3518, 3519, 3520, 3523, 3524, 3525, 3527, 3530, 3531, 3534, 3535, 3536, 3538, 3539, 3540, 3541, 3544, 3545, 3546, 3548, 3553, 3554, 3556, 3558, 3559, 3561, 3565, 3567, 3572, 3573, 3576, 3581, 3582, 3584, 3587, 3588, 3592, 3593, 3594, 3595, 3597, 3598, 3599, 3602, 3604, 3605, 3606, 3607, 3608, 3609, 3610, 3612, 3618, 3619, 3620, 3622, 3623, 3625, 3626, 3627, 3628, 3629, 3631, 3633, 3634, 3635, 3637, 3641, 3648, 3649, 3651, 3652, 3653, 3654, 3656, 3660, 3664, 3667, 3670, 3677, 3678, 3679, 3682, 3684, 3692, 3695, 3696, 3698, 3702, 3703, 3706, 3707, 3710, 3714, 3718, 3719, 3720, 3721, 3723, 3725, 3726, 3728, 3729, 3730, 3732, 3734, 3738, 3739, 3740, 3742, 3744, 3745, 3746, 3747, 3749, 3751, 3754, 3756, 3760, 3764, 3767, 3769, 3770, 3771, 3774, 3776, 3781, 3782, 3783, 3784, 3786, 3789, 3791, 3793, 3795, 3799, 3805, 3807, 3808, 3809, 3811, 3813, 3814, 3815, 3816, 3818, 3819, 3823, 3824, 3826, 3827, 3828, 3829, 3830, 3831, 3832, 3833, 3834, 3835, 3838, 3839, 3841, 3842, 3843, 3844, 3846, 3848, 3849, 3850, 3853, 3854, 3855, 3857, 3858, 3859, 3864, 3867, 3868, 3870, 3871, 3873, 3877, 3879, 3881, 3884, 3888, 3890, 3891, 3895, 3896, 3897, 3898, 3899, 3900, 3901, 3905, 3909, 3911, 3915, 3916, 3918, 3925, 3927, 3928, 3930, 3931, 3932, 3934, 3935, 3936, 3939, 3941, 3942, 3944, 3945, 3948, 3949, 3950, 3956, 3958, 3959, 3960, 3963, 3968, 3972, 3974, 3975, 3978, 3980, 3981, 3985, 3990, 3992, 3993, 3994, 3995, 3996, 4000, 4001, 4003, 4005, 4009, 4012, 4013, 4015, 4016, 4020, 4023, 4027, 4028, 4029, 4030, 4031, 4032, 4033, 4034, 4035, 4036, 4037, 4041, 4042, 4043, 4044, 4045, 4046, 4049, 4050, 4051, 4052, 4054, 4055, 4056, 4058, 4059, 4060, 4063, 4066, 4069, 4070, 4073, 4074, 4076, 4079, 4081, 4083, 4084, 4085, 4087, 4091, 4092, 4095, 4096, 4100, 4101, 4103, 4105, 4108, 4111, 4114, 4116, 4120, 4123, 4124, 4128, 4130, 4131, 4132, 4133, 4134, 4137, 4144, 4145, 4146, 4149, 4155, 4156, 4158, 4159, 4160, 4162, 4164, 4165, 4166, 4168, 4169, 4170, 4171, 4172, 4175, 4176, 4178, 4179, 4180, 4183, 4184, 4185, 4188, 4189, 4190, 4191, 4192, 4193, 4195, 4196, 4198, 4199, 4203, 4204, 4205, 4209, 4213, 4214, 4215, 4216, 4217, 4219, 4220, 4221, 4223, 4225, 4228, 4234, 4236, 4238, 4241, 4242, 4245, 4246, 4247, 4248, 4252, 4253, 4254, 4255, 4257, 4259, 4260, 4261, 4262, 4264, 4265, 4267, 4268, 4269, 4271, 4273, 4274, 4275, 4276, 4277, 4278, 4280, 4281, 4282, 4283, 4290, 4294, 4299, 4300, 4302, 4303, 4305, 4306, 4309, 4311, 4312, 4315, 4316, 4319, 4320, 4321, 4323, 4325, 4328, 4330, 4331, 4332, 4335, 4337, 4343, 4344, 4350, 4352, 4354, 4356, 4357, 4360, 4363, 4364, 4365, 4367, 4369, 4370, 4371, 4373, 4375, 4377, 4379, 4380, 4381, 4385, 4386, 4387, 4390, 4393, 4395, 4397, 4398, 4399, 4400, 4401, 4403, 4404, 4406, 4408, 4411, 4414, 4415, 4416, 4418, 4425, 4427, 4428, 4429, 4430, 4432, 4433, 4435, 4436, 4437, 4438, 4439, 4445, 4446, 4447, 4449, 4452, 4454, 4455, 4456, 4460, 4461, 4462, 4463, 4466, 4468, 4469, 4470, 4471, 4475, 4477, 4478, 4479, 4480, 4482, 4483, 4484, 4488, 4489, 4491, 4492, 4493, 4495, 4497, 4498, 4501, 4502, 4504, 4505, 4507, 4510, 4511, 4513, 4514, 4515, 4516, 4517, 4518, 4520, 4521, 4522, 4523, 4525, 4528, 4529, 4530, 4531, 4536, 4537, 4538, 4540, 4543, 4544, 4545, 4547, 4548, 4551, 4554, 4559, 4560, 4562, 4563, 4564, 4565, 4566, 4568, 4569, 4570, 4574, 4577, 4580, 4581, 4582, 4585, 4586, 4587, 4588, 4589, 4590, 4591, 4593, 4599, 4600, 4601, 4604, 4605, 4606, 4607, 4608, 4609, 4612, 4614, 4615, 4617, 4619, 4620, 4621, 4622, 4623, 4624, 4625, 4627, 4628, 4633, 4635, 4637, 4638, 4639, 4643, 4645, 4649, 4650, 4651, 4655, 4658, 4659, 4660, 4661, 4662, 4663, 4664, 4665, 4667, 4669, 4670, 4673, 4674, 4675, 4679, 4681, 4682, 4683, 4684, 4685, 4687, 4688, 4689, 4693, 4694, 4698, 4701, 4702, 4704, 4706, 4708, 4709, 4710, 4711, 4713, 4717, 4718, 4720, 4721, 4722, 4725, 4726, 4730, 4733, 4734, 4738, 4739, 4750, 4751, 4752, 4757, 4758, 4759, 4760, 4763, 4764, 4766, 4767, 4769, 4771, 4772, 4774, 4777, 4778, 4780, 4782, 4783, 4784, 4787, 4788, 4790, 4791, 4794, 4796, 4797, 4800, 4801, 4804, 4805, 4806, 4808, 4811, 4812, 4814, 4816, 4817, 4819, 4820, 4822, 4823, 4824, 4825, 4826, 4827, 4828, 4829, 4834, 4836, 4838, 4839, 4845, 4847, 4850, 4854, 4855, 4857, 4858, 4860, 4863, 4867, 4868, 4869, 4871, 4872, 4873, 4875, 4876, 4879, 4882, 4883, 4884, 4885, 4886, 4888, 4890, 4891, 4892, 4895, 4898, 4899, 4900, 4901, 4903, 4905, 4906, 4907, 4908, 4913, 4916, 4917, 4919, 4921, 4922, 4931, 4932, 4934, 4935, 4936, 4940, 4942, 4943, 4944, 4946, 4947, 4948, 4950, 4951, 4953, 4954, 4955, 4959, 4960, 4963, 4967, 4968, 4970, 4971, 4972, 4973, 4975, 4976, 4978, 4979, 4981, 4983, 4984, 4986, 4988, 4990, 4994, 4995, 4998, 4999, 5003, 5005, 5015, 5016, 5017, 5020, 5021, 5022, 5023, 5028, 5029, 5032, 5034, 5035, 5036, 5037, 5039, 5040, 5042, 5045, 5046, 5047, 5049, 5050, 5051, 5052, 5053, 5056, 5057, 5058, 5059, 5060, 5062, 5064, 5067, 5068, 5073, 5075, 5077, 5078, 5081, 5084, 5085, 5086, 5087, 5089, 5090, 5092, 5095, 5100, 5103, 5104, 5107, 5111, 5112, 5113, 5114, 5119, 5121, 5125, 5126, 5127, 5128, 5131, 5132, 5133, 5137, 5139, 5141, 5142, 5144, 5146, 5148, 5149, 5150, 5151, 5152, 5156, 5159, 5160, 5161, 5162, 5164, 5165, 5168, 5169, 5171, 5172, 5174, 5179, 5180, 5181, 5184, 5186, 5189, 5190, 5191, 5192, 5196, 5199, 5203, 5204, 5205, 5206, 5207, 5209, 5211, 5212, 5213, 5215, 5218, 5219, 5220, 5221, 5231, 5235, 5237, 5241, 5243, 5244, 5245, 5246, 5247, 5248, 5250, 5253, 5255, 5256, 5258, 5260, 5261, 5263, 5264, 5266, 5267, 5269, 5275, 5277, 5279, 5280, 5282, 5283, 5285, 5291, 5292, 5298, 5300, 5301, 5303, 5304, 5305, 5306, 5308, 5309, 5312, 5313, 5316, 5323, 5324, 5327, 5330, 5332, 5336, 5337, 5338, 5340, 5342, 5343, 5345, 5349, 5352, 5354, 5356, 5359, 5360, 5361, 5362, 5363, 5364, 5365, 5366, 5368, 5372, 5373, 5374, 5375, 5376, 5377, 5378, 5380, 5381, 5383, 5386, 5390, 5391, 5392, 5396, 5397, 5401, 5406, 5408, 5409, 5410, 5414, 5416, 5419, 5425, 5426, 5427, 5429, 5430, 5432, 5433, 5434, 5435, 5439, 5444, 5445, 5446, 5447, 5448, 5450, 5452, 5457, 5458, 5462, 5465, 5466, 5472, 5478, 5479, 5480, 5482, 5483, 5484, 5485, 5487, 5488, 5490, 5491, 5493, 5494, 5496, 5501, 5502, 5510, 5512, 5513, 5515, 5517, 5519, 5521, 5523, 5524, 5527, 5531, 5532, 5533, 5534, 5535, 5537, 5538, 5543, 5545, 5546, 5548, 5549, 5553, 5554, 5555, 5556, 5557, 5559, 5561, 5562, 5566, 5567, 5568, 5570, 5572, 5575, 5578, 5579, 5580, 5581, 5584, 5587, 5588, 5589, 5590, 5598, 5601, 5603, 5604, 5605, 5606, 5608, 5609, 5611, 5615, 5621, 5622, 5624, 5625, 5627, 5628, 5629, 5631, 5632, 5635, 5638, 5639, 5640, 5641, 5644, 5645, 5646, 5647, 5648, 5649, 5650, 5657, 5658, 5661, 5662, 5663, 5664, 5670, 5673, 5676, 5678, 5680, 5683, 5685, 5686, 5688, 5693, 5695, 5696, 5697, 5699, 5702, 5704, 5707, 5708, 5710, 5713, 5720, 5724, 5727, 5729, 5730, 5731, 5733, 5735, 5737, 5738, 5741, 5742, 5746, 5750, 5751, 5752, 5753, 5755, 5759, 5761, 5762, 5765, 5767, 5768, 5774, 5776, 5778, 5779, 5780]\n",
            "Validation: [0, 5, 11, 12, 13, 14, 17, 18, 20, 21, 23, 24, 25, 27, 29, 32, 33, 36, 38, 41, 42, 44, 45, 49, 52, 53, 55, 56, 57, 58, 60, 61, 62, 64, 65, 66, 67, 68, 69, 71, 74, 75, 78, 80, 82, 84, 87, 89, 90, 92, 97, 100, 101, 104, 105, 106, 107, 109, 110, 111, 113, 115, 117, 118, 120, 122, 125, 127, 129, 130, 131, 133, 136, 139, 140, 141, 142, 143, 145, 148, 150, 152, 155, 156, 157, 163, 166, 168, 171, 174, 176, 178, 179, 180, 181, 184, 185, 187, 189, 190, 191, 193, 195, 198, 200, 202, 203, 206, 207, 209, 213, 215, 216, 219, 220, 222, 223, 224, 226, 227, 229, 231, 232, 238, 240, 242, 245, 246, 247, 249, 250, 253, 254, 255, 256, 257, 260, 261, 265, 266, 268, 269, 270, 272, 274, 275, 276, 277, 279, 283, 284, 287, 288, 291, 292, 294, 297, 303, 305, 307, 309, 310, 311, 312, 313, 317, 318, 320, 321, 322, 323, 326, 327, 328, 332, 333, 334, 335, 337, 338, 339, 342, 344, 345, 349, 350, 351, 353, 354, 355, 357, 363, 365, 366, 367, 371, 375, 376, 381, 383, 387, 389, 390, 391, 392, 394, 395, 396, 398, 400, 403, 405, 406, 409, 412, 413, 416, 417, 418, 421, 424, 426, 428, 429, 431, 432, 435, 438, 439, 440, 442, 443, 447, 448, 451, 452, 453, 455, 457, 459, 462, 463, 464, 466, 467, 470, 471, 476, 477, 479, 480, 482, 483, 484, 486, 487, 491, 494, 496, 497, 500, 501, 509, 510, 511, 514, 518, 521, 523, 524, 525, 530, 537, 539, 541, 542, 544, 553, 554, 555, 556, 562, 565, 566, 567, 569, 572, 575, 576, 578, 580, 583, 585, 586, 587, 590, 592, 593, 594, 596, 597, 598, 602, 604, 611, 612, 613, 615, 616, 617, 624, 625, 627, 630, 632, 635, 642, 644, 645, 647, 648, 649, 650, 654, 659, 664, 666, 669, 671, 672, 673, 674, 675, 678, 680, 683, 684, 685, 686, 687, 689, 692, 695, 696, 698, 700, 701, 702, 703, 707, 708, 709, 711, 712, 713, 715, 716, 718, 723, 724, 728, 729, 730, 731, 734, 735, 737, 739, 740, 743, 747, 748, 749, 752, 756, 757, 758, 759, 761, 762, 764, 765, 766, 768, 771, 773, 775, 778, 779, 789, 791, 792, 794, 796, 797, 799, 802, 804, 808, 809, 810, 812, 813, 814, 815, 819, 820, 826, 832, 834, 835, 836, 838, 839, 840, 843, 845, 846, 847, 852, 853, 855, 859, 860, 862, 864, 865, 867, 868, 871, 875, 876, 877, 879, 881, 882, 884, 887, 888, 889, 890, 891, 894, 895, 897, 898, 900, 901, 902, 903, 906, 908, 910, 912, 913, 914, 916, 918, 919, 922, 923, 931, 935, 938, 939, 940, 942, 943, 946, 948, 950, 951, 952, 953, 954, 955, 957, 958, 963, 964, 965, 970, 972, 973, 974, 977, 981, 982, 984, 985, 986, 987, 988, 989, 993, 994, 996, 998, 999, 1000, 1002, 1005, 1011, 1013, 1015, 1016, 1018, 1019, 1020, 1022, 1023, 1025, 1029, 1031, 1034, 1035, 1037, 1039, 1040, 1041, 1042, 1043, 1050, 1052, 1053, 1054, 1056, 1060, 1061, 1063, 1068, 1069, 1070, 1071, 1073, 1075, 1076, 1077, 1078, 1080, 1081, 1082, 1083, 1084, 1086, 1087, 1089, 1091, 1092, 1095, 1096, 1097, 1101, 1103, 1104, 1107, 1113, 1114, 1118, 1119, 1120, 1121, 1122, 1123, 1127, 1128, 1130, 1136, 1137, 1138, 1141, 1142, 1143, 1148, 1149, 1152, 1156, 1157, 1160, 1162, 1163, 1164, 1165, 1167, 1168, 1169, 1170, 1172, 1173, 1174, 1175, 1176, 1177, 1183, 1187, 1188, 1189, 1192, 1196, 1197, 1198, 1199, 1200, 1202, 1203, 1205, 1207, 1209, 1210, 1212, 1213, 1214, 1215, 1217, 1218, 1226, 1227, 1228, 1229, 1232, 1234, 1242, 1243, 1244, 1246, 1247, 1248, 1249, 1251, 1255, 1256, 1257, 1259, 1260, 1261, 1262, 1264, 1265, 1266, 1270, 1272, 1274, 1275, 1276, 1277, 1278, 1279, 1280, 1281, 1283, 1284, 1286, 1288, 1290, 1291, 1293, 1294, 1296, 1300, 1301, 1302, 1303, 1304, 1305, 1309, 1312, 1313, 1315, 1316, 1320, 1322, 1324, 1325, 1326, 1328, 1330, 1331, 1332, 1333, 1336, 1337, 1340, 1343, 1344, 1345, 1346, 1347, 1348, 1349, 1354, 1355, 1356, 1360, 1361, 1362, 1363, 1364, 1365, 1366, 1368, 1369, 1370, 1372, 1373, 1375, 1378, 1379, 1382, 1383, 1385, 1387, 1388, 1389, 1390, 1391, 1392, 1395, 1399, 1402, 1403, 1404, 1407, 1409, 1410, 1414, 1416, 1419, 1420, 1422, 1423, 1426, 1427, 1434, 1435, 1436, 1438, 1441, 1443, 1444, 1445, 1446, 1448, 1449, 1450, 1451, 1454, 1456, 1457, 1462, 1464, 1466, 1467, 1468, 1470, 1471, 1472, 1473, 1474, 1476, 1477, 1481, 1483, 1488, 1490, 1492, 1494, 1495, 1498, 1500, 1504, 1508, 1510, 1511, 1516, 1518, 1520, 1521, 1523, 1527, 1531, 1533, 1534, 1536, 1538, 1539, 1541, 1545, 1546, 1547, 1550, 1551, 1553, 1554, 1557, 1558, 1561, 1562, 1564, 1567, 1570, 1571, 1574, 1575, 1576, 1577, 1578, 1586, 1588, 1589, 1593, 1594, 1597, 1598, 1600, 1602, 1603, 1605, 1608, 1609, 1610, 1613, 1618, 1620, 1622, 1626, 1627, 1629, 1631, 1632, 1633, 1634, 1636, 1639, 1640, 1642, 1647, 1649, 1654, 1655, 1656, 1664, 1665, 1666, 1669, 1675, 1676, 1677, 1678, 1679, 1682, 1683, 1689, 1690, 1692, 1695, 1698, 1699, 1700, 1704, 1706, 1708, 1709, 1712, 1714, 1715, 1717, 1719, 1720, 1722, 1724, 1725, 1726, 1728, 1733, 1735, 1736, 1737, 1740, 1741, 1743, 1745, 1746, 1749, 1751, 1753, 1754, 1755, 1756, 1759, 1760, 1763, 1765, 1768, 1769, 1770, 1772, 1773, 1775, 1779, 1782, 1786, 1788, 1789, 1793, 1795, 1797, 1801, 1803, 1804, 1805, 1810, 1812, 1814, 1820, 1822, 1824, 1826, 1828, 1832, 1833, 1836, 1838, 1840, 1841, 1843, 1844, 1846, 1847, 1848, 1849, 1856, 1857, 1858, 1859, 1862, 1863, 1864, 1865, 1868, 1873, 1874, 1877, 1880, 1882, 1884, 1885, 1889, 1890, 1891, 1892, 1893, 1895, 1898, 1901, 1902, 1906, 1907, 1908, 1909, 1910, 1911, 1912, 1914, 1915, 1918, 1920, 1921, 1926, 1930, 1931, 1935, 1939, 1940, 1941, 1942, 1944, 1945, 1946, 1947, 1949, 1952, 1953, 1957, 1960, 1962, 1963, 1968, 1969, 1973, 1976, 1979, 1980, 1982, 1984, 1985, 1988, 1993, 1994, 1995, 1997, 1999, 2002, 2003, 2004, 2007, 2012, 2013, 2014, 2018, 2020, 2021, 2022, 2023, 2024, 2026, 2030, 2032, 2035, 2036, 2037, 2038, 2040, 2041, 2043, 2046, 2050, 2052, 2054, 2056, 2057, 2060, 2061, 2062, 2063, 2064, 2066, 2067, 2070, 2072, 2075, 2079, 2080, 2081, 2082, 2084, 2087, 2089, 2093, 2095, 2096, 2098, 2102, 2103, 2104, 2106, 2110, 2111, 2113, 2114, 2116, 2117, 2118, 2122, 2123, 2126, 2127, 2133, 2135, 2136, 2137, 2138, 2139, 2141, 2144, 2146, 2147, 2151, 2153, 2155, 2157, 2158, 2159, 2164, 2169, 2170, 2171, 2173, 2174, 2178, 2184, 2186, 2187, 2189, 2190, 2191, 2196, 2199, 2200, 2203, 2210, 2211, 2212, 2217, 2218, 2219, 2220, 2221, 2222, 2223, 2224, 2226, 2228, 2233, 2234, 2235, 2237, 2239, 2240, 2245, 2246, 2248, 2251, 2253, 2254, 2255, 2258, 2259, 2261, 2262, 2263, 2264, 2265, 2266, 2267, 2270, 2271, 2273, 2274, 2275, 2276, 2277, 2282, 2284, 2285, 2286, 2291, 2292, 2293, 2295, 2297, 2298, 2299, 2300, 2301, 2303, 2305, 2308, 2310, 2311, 2312, 2313, 2315, 2317, 2318, 2320, 2321, 2322, 2323, 2326, 2327, 2330, 2331, 2334, 2337, 2338, 2342, 2345, 2346, 2347, 2348, 2350, 2352, 2355, 2356, 2357, 2358, 2359, 2360, 2361, 2363, 2365, 2366, 2372, 2374, 2375, 2376, 2378, 2381, 2382, 2383, 2386, 2389, 2391, 2392, 2394, 2395, 2396, 2397, 2399, 2401, 2403, 2405, 2406, 2407, 2409, 2412, 2414, 2416, 2417, 2420, 2421, 2425, 2426, 2427, 2429, 2431, 2435, 2436, 2437, 2439, 2440, 2441, 2442, 2443, 2446, 2447, 2448, 2450, 2451, 2455, 2457, 2460, 2461, 2462, 2463, 2464, 2469, 2471, 2472, 2475, 2478, 2479, 2482, 2483, 2485, 2486, 2488, 2492, 2493, 2494, 2495, 2496, 2498, 2499, 2500, 2502, 2504, 2505, 2506, 2509, 2512, 2513, 2514, 2516, 2517, 2524, 2529, 2530, 2535, 2536, 2538, 2539, 2543, 2544, 2545, 2548, 2549, 2550, 2551, 2552, 2553, 2554, 2555, 2557, 2558, 2563, 2564, 2567, 2572, 2574, 2577, 2579, 2582, 2583, 2584, 2586, 2587, 2588, 2589, 2590, 2592, 2594, 2596, 2597, 2600, 2601, 2602, 2603, 2607, 2608, 2611, 2613, 2616, 2617, 2618, 2619, 2620, 2624, 2628, 2629, 2631, 2635, 2636, 2637, 2638, 2643, 2644, 2650, 2651, 2652, 2653, 2654, 2655, 2658, 2659, 2660, 2661, 2662, 2663, 2671, 2675, 2676, 2677, 2678, 2680, 2683, 2685, 2686, 2688, 2689, 2691, 2692, 2694, 2695, 2696, 2697, 2702, 2703, 2705, 2707, 2710, 2713, 2714, 2715, 2717, 2718, 2719, 2720, 2723, 2727, 2728, 2729, 2730, 2731, 2735, 2737, 2741, 2742, 2746, 2748, 2749, 2750, 2752, 2753, 2754, 2757, 2758, 2759, 2761, 2762, 2765, 2767, 2768, 2771, 2773, 2774, 2776, 2777, 2779, 2783, 2784, 2785, 2786, 2787, 2789, 2791, 2793, 2794, 2796, 2797, 2800, 2805, 2806, 2810, 2814, 2817, 2818, 2823, 2824, 2826, 2827, 2828, 2829, 2830, 2836, 2838, 2844, 2846, 2847, 2849, 2851, 2852, 2853, 2854, 2856, 2857, 2859, 2860, 2861, 2867, 2868, 2871, 2874, 2879, 2882, 2883, 2888, 2891, 2892, 2894, 2895, 2896, 2899, 2900, 2901, 2903, 2904, 2905, 2906, 2908, 2910, 2911, 2912, 2914, 2915, 2917, 2918, 2923, 2924, 2926, 2928, 2930, 2933, 2936, 2938, 2941, 2943, 2945, 2949, 2951, 2952, 2956, 2958, 2959, 2963, 2965, 2966, 2969, 2971, 2972, 2973, 2979, 2982, 2984, 2988, 2990, 2992, 2994, 2996, 2997, 2999, 3000, 3001, 3002, 3004, 3005, 3006, 3008, 3009, 3011, 3012, 3013, 3015, 3016, 3017, 3018, 3020, 3021, 3022, 3023, 3027, 3030, 3031, 3032, 3034, 3035, 3036, 3037, 3039, 3040, 3041, 3043, 3044, 3050, 3052, 3055, 3056, 3060, 3061, 3062, 3064, 3066, 3069, 3070, 3071, 3074, 3081, 3083, 3084, 3085, 3086, 3087, 3088, 3090, 3094, 3095, 3098, 3099, 3100, 3101, 3102, 3103, 3105, 3106, 3108, 3110, 3111, 3117, 3118, 3122, 3123, 3124, 3128, 3130, 3131, 3134, 3136, 3138, 3142, 3145, 3146, 3147, 3149, 3151, 3155, 3156, 3159, 3162, 3164, 3165, 3167, 3172, 3173, 3174, 3177, 3178, 3179, 3182, 3185, 3188, 3191, 3192, 3197, 3198, 3199, 3200, 3202, 3204, 3205, 3212, 3213, 3214, 3215, 3218, 3219, 3220, 3223, 3224, 3227, 3230, 3231, 3232, 3235, 3236, 3237, 3238, 3239, 3240, 3241, 3242, 3244, 3251, 3260, 3264, 3266, 3267, 3268, 3270, 3272, 3276, 3279, 3282, 3283, 3284, 3285, 3286, 3288, 3289, 3293, 3299, 3301, 3302, 3305, 3307, 3309, 3313, 3314, 3315, 3316, 3319, 3320, 3322, 3324, 3328, 3329, 3330, 3332, 3333, 3334, 3337, 3338, 3342, 3344, 3345, 3347, 3349, 3351, 3353, 3354, 3355, 3356, 3364, 3368, 3369, 3371, 3372, 3374, 3377, 3378, 3379, 3382, 3384, 3386, 3389, 3390, 3392, 3393, 3394, 3395, 3400, 3403, 3404, 3405, 3407, 3409, 3410, 3411, 3412, 3414, 3417, 3418, 3419, 3422, 3423, 3424, 3426, 3428, 3429, 3430, 3431, 3432, 3434, 3436, 3437, 3438, 3439, 3440, 3441, 3442, 3443, 3444, 3446, 3448, 3449, 3451, 3452, 3453, 3458, 3459, 3460, 3461, 3464, 3469, 3471, 3474, 3475, 3476, 3477, 3480, 3481, 3484, 3486, 3488, 3489, 3490, 3491, 3493, 3494, 3495, 3497, 3500, 3502, 3504, 3508, 3510, 3511, 3512, 3513, 3515, 3521, 3522, 3526, 3528, 3529, 3532, 3533, 3537, 3542, 3543, 3547, 3549, 3550, 3551, 3552, 3555, 3557, 3560, 3562, 3563, 3564, 3566, 3568, 3569, 3570, 3571, 3574, 3575, 3577, 3578, 3579, 3580, 3583, 3585, 3586, 3589, 3590, 3591, 3596, 3600, 3601, 3603, 3611, 3613, 3614, 3615, 3616, 3617, 3621, 3624, 3630, 3632, 3636, 3638, 3639, 3640, 3642, 3643, 3644, 3645, 3646, 3647, 3650, 3655, 3657, 3658, 3659, 3661, 3662, 3663, 3665, 3666, 3668, 3669, 3671, 3672, 3673, 3674, 3675, 3676, 3680, 3681, 3683, 3685, 3686, 3687, 3688, 3689, 3690, 3691, 3693, 3694, 3697, 3699, 3700, 3701, 3704, 3705, 3708, 3709, 3711, 3712, 3713, 3715, 3716, 3717, 3722, 3724, 3727, 3731, 3733, 3735, 3736, 3737, 3741, 3743, 3748, 3750, 3752, 3753, 3755, 3757, 3758, 3759, 3761, 3762, 3763, 3765, 3766, 3768, 3772, 3773, 3775, 3777, 3778, 3779, 3780, 3785, 3787, 3788, 3790, 3792, 3794, 3796, 3797, 3798, 3800, 3801, 3802, 3803, 3804, 3806, 3810, 3812, 3817, 3820, 3821, 3822, 3825, 3836, 3837, 3840, 3845, 3847, 3851, 3852, 3856, 3860, 3861, 3862, 3863, 3865, 3866, 3869, 3872, 3874, 3875, 3876, 3878, 3880, 3882, 3883, 3885, 3886, 3887, 3889, 3892, 3893, 3894, 3902, 3903, 3904, 3906, 3907, 3908, 3910, 3912, 3913, 3914, 3917, 3919, 3920, 3921, 3922, 3923, 3924, 3926, 3929, 3933, 3937, 3938, 3940, 3943, 3946, 3947, 3951, 3952, 3953, 3954, 3955, 3957, 3961, 3962, 3964, 3965, 3966, 3967, 3969, 3970, 3971, 3973, 3976, 3977, 3979, 3982, 3983, 3984, 3986, 3987, 3988, 3989, 3991, 3997, 3998, 3999, 4002, 4004, 4006, 4007, 4008, 4010, 4011, 4014, 4017, 4018, 4019, 4021, 4022, 4024, 4025, 4026, 4038, 4039, 4040, 4047, 4048, 4053, 4057, 4061, 4062, 4064, 4065, 4067, 4068, 4071, 4072, 4075, 4077, 4078, 4080, 4082, 4086, 4088, 4089, 4090, 4093, 4094, 4097, 4098, 4099, 4102, 4104, 4106, 4107, 4109, 4110, 4112, 4113, 4115, 4117, 4118, 4119, 4121, 4122, 4125, 4126, 4127, 4129, 4135, 4136, 4138, 4139, 4140, 4141, 4142, 4143, 4147, 4148, 4150, 4151, 4152, 4153, 4154, 4157, 4161, 4163, 4167, 4173, 4174, 4177, 4181, 4182, 4186, 4187, 4194, 4197, 4200, 4201, 4202, 4206, 4207, 4208, 4210, 4211, 4212, 4218, 4222, 4224, 4226, 4227, 4229, 4230, 4231, 4232, 4233, 4235, 4237, 4239, 4240, 4243, 4244, 4249, 4250, 4251, 4256, 4258, 4263, 4266, 4270, 4272, 4279, 4284, 4285, 4286, 4287, 4288, 4289, 4291, 4292, 4293, 4295, 4296, 4297, 4298, 4301, 4304, 4307, 4308, 4310, 4313, 4314, 4317, 4318, 4322, 4324, 4326, 4327, 4329, 4333, 4334, 4336, 4338, 4339, 4340, 4341, 4342, 4345, 4346, 4347, 4348, 4349, 4351, 4353, 4355, 4358, 4359, 4361, 4362, 4366, 4368, 4372, 4374, 4376, 4378, 4382, 4383, 4384, 4388, 4389, 4391, 4392, 4394, 4396, 4402, 4405, 4407, 4409, 4410, 4412, 4413, 4417, 4419, 4420, 4421, 4422, 4423, 4424, 4426, 4431, 4434, 4440, 4441, 4442, 4443, 4444, 4448, 4450, 4451, 4453, 4457, 4458, 4459, 4464, 4465, 4467, 4472, 4473, 4474, 4476, 4481, 4485, 4486, 4487, 4490, 4494, 4496, 4499, 4500, 4503, 4506, 4508, 4509, 4512, 4519, 4524, 4526, 4527, 4532, 4533, 4534, 4535, 4539, 4541, 4542, 4546, 4549, 4550, 4552, 4553, 4555, 4556, 4557, 4558, 4561, 4567, 4571, 4572, 4573, 4575, 4576, 4578, 4579, 4583, 4584, 4592, 4594, 4595, 4596, 4597, 4598, 4602, 4603, 4610, 4611, 4613, 4616, 4618, 4626, 4629, 4630, 4631, 4632, 4634, 4636, 4640, 4641, 4642, 4644, 4646, 4647, 4648, 4652, 4653, 4654, 4656, 4657, 4666, 4668, 4671, 4672, 4676, 4677, 4678, 4680, 4686, 4690, 4691, 4692, 4695, 4696, 4697, 4699, 4700, 4703, 4705, 4707, 4712, 4714, 4715, 4716, 4719, 4723, 4724, 4727, 4728, 4729, 4731, 4732, 4735, 4736, 4737, 4740, 4741, 4742, 4743, 4744, 4745, 4746, 4747, 4748, 4749, 4753, 4754, 4755, 4756, 4761, 4762, 4765, 4768, 4770, 4773, 4775, 4776, 4779, 4781, 4785, 4786, 4789, 4792, 4793, 4795, 4798, 4799, 4802, 4803, 4807, 4809, 4810, 4813, 4815, 4818, 4821, 4830, 4831, 4832, 4833, 4835, 4837, 4840, 4841, 4842, 4843, 4844, 4846, 4848, 4849, 4851, 4852, 4853, 4856, 4859, 4861, 4862, 4864, 4865, 4866, 4870, 4874, 4877, 4878, 4880, 4881, 4887, 4889, 4893, 4894, 4896, 4897, 4902, 4904, 4909, 4910, 4911, 4912, 4914, 4915, 4918, 4920, 4923, 4924, 4925, 4926, 4927, 4928, 4929, 4930, 4933, 4937, 4938, 4939, 4941, 4945, 4949, 4952, 4956, 4957, 4958, 4961, 4962, 4964, 4965, 4966, 4969, 4974, 4977, 4980, 4982, 4985, 4987, 4989, 4991, 4992, 4993, 4996, 4997, 5000, 5001, 5002, 5004, 5006, 5007, 5008, 5009, 5010, 5011, 5012, 5013, 5014, 5018, 5019, 5024, 5025, 5026, 5027, 5030, 5031, 5033, 5038, 5041, 5043, 5044, 5048, 5054, 5055, 5061, 5063, 5065, 5066, 5069, 5070, 5071, 5072, 5074, 5076, 5079, 5080, 5082, 5083, 5088, 5091, 5093, 5094, 5096, 5097, 5098, 5099, 5101, 5102, 5105, 5106, 5108, 5109, 5110, 5115, 5116, 5117, 5118, 5120, 5122, 5123, 5124, 5129, 5130, 5134, 5135, 5136, 5138, 5140, 5143, 5145, 5147, 5153, 5154, 5155, 5157, 5158, 5163, 5166, 5167, 5170, 5173, 5175, 5176, 5177, 5178, 5182, 5183, 5185, 5187, 5188, 5193, 5194, 5195, 5197, 5198, 5200, 5201, 5202, 5208, 5210, 5214, 5216, 5217, 5222, 5223, 5224, 5225, 5226, 5227, 5228, 5229, 5230, 5232, 5233, 5234, 5236, 5238, 5239, 5240, 5242, 5249, 5251, 5252, 5254, 5257, 5259, 5262, 5265, 5268, 5270, 5271, 5272, 5273, 5274, 5276, 5278, 5281, 5284, 5286, 5287, 5288, 5289, 5290, 5293, 5294, 5295, 5296, 5297, 5299, 5302, 5307, 5310, 5311, 5314, 5315, 5317, 5318, 5319, 5320, 5321, 5322, 5325, 5326, 5328, 5329, 5331, 5333, 5334, 5335, 5339, 5341, 5344, 5346, 5347, 5348, 5350, 5351, 5353, 5355, 5357, 5358, 5367, 5369, 5370, 5371, 5379, 5382, 5384, 5385, 5387, 5388, 5389, 5393, 5394, 5395, 5398, 5399, 5400, 5402, 5403, 5404, 5405, 5407, 5411, 5412, 5413, 5415, 5417, 5418, 5420, 5421, 5422, 5423, 5424, 5428, 5431, 5436, 5437, 5438, 5440, 5441, 5442, 5443, 5449, 5451, 5453, 5454, 5455, 5456, 5459, 5460, 5461, 5463, 5464, 5467, 5468, 5469, 5470, 5471, 5473, 5474, 5475, 5476, 5477, 5481, 5486, 5489, 5492, 5495, 5497, 5498, 5499, 5500, 5503, 5504, 5505, 5506, 5507, 5508, 5509, 5511, 5514, 5516, 5518, 5520, 5522, 5525, 5526, 5528, 5529, 5530, 5536, 5539, 5540, 5541, 5542, 5544, 5547, 5550, 5551, 5552, 5558, 5560, 5563, 5564, 5565, 5569, 5571, 5573, 5574, 5576, 5577, 5582, 5583, 5585, 5586, 5591, 5592, 5593, 5594, 5595, 5596, 5597, 5599, 5600, 5602, 5607, 5610, 5612, 5613, 5614, 5616, 5617, 5618, 5619, 5620, 5623, 5626, 5630, 5633, 5634, 5636, 5637, 5642, 5643, 5651, 5652, 5653, 5654, 5655, 5656, 5659, 5660, 5665, 5666, 5667, 5668, 5669, 5671, 5672, 5674, 5675, 5677, 5679, 5681, 5682, 5684, 5687, 5689, 5690, 5691, 5692, 5694, 5698, 5700, 5701, 5703, 5705, 5706, 5709, 5711, 5712, 5714, 5715, 5716, 5717, 5718, 5719, 5721, 5722, 5723, 5725, 5726, 5728, 5732, 5734, 5736, 5739, 5740, 5743, 5744, 5745, 5747, 5748, 5749, 5754, 5756, 5757, 5758, 5760, 5763, 5764, 5766, 5769, 5770, 5771, 5772, 5773, 5775, 5777, 5781, 5782, 5783]\n",
            "New sizes:\n",
            "train_new: 2892\n",
            "val_new: 2892\n"
          ],
          "name": "stdout"
        }
      ]
    },
    {
      "cell_type": "markdown",
      "metadata": {
        "id": "FYEDQ7Z21ldN",
        "colab_type": "text"
      },
      "source": [
        "**Prepare Dataloaders**"
      ]
    },
    {
      "cell_type": "code",
      "metadata": {
        "id": "VriRw8SI1nle",
        "colab_type": "code",
        "colab": {}
      },
      "source": [
        "# Dataloaders iterate over pytorch datasets and transparently provide useful functions (e.g. parallelization and shuffling)\n",
        "train_dataloader = DataLoader(train_dataset_new, batch_size=BATCH_SIZE, shuffle=True, num_workers=4, drop_last=True)\n",
        "val_dataloader = DataLoader(val_dataset_new, batch_size=BATCH_SIZE, shuffle=False, num_workers=4, drop_last=True)\n",
        "test_dataloader = DataLoader(test_dataset, batch_size=BATCH_SIZE, shuffle=False, num_workers=4)"
      ],
      "execution_count": 0,
      "outputs": []
    },
    {
      "cell_type": "markdown",
      "metadata": {
        "id": "gbZ1t5Qs2z4j",
        "colab_type": "text"
      },
      "source": [
        "**Prepare Network**"
      ]
    },
    {
      "cell_type": "code",
      "metadata": {
        "id": "exHUjtXa22DN",
        "colab_type": "code",
        "colab": {}
      },
      "source": [
        "net = alexnet(pretrained=True) # Loading AlexNet model\n",
        "\n",
        "# AlexNet has 1000 output neurons, corresponding to the 1000 ImageNet's classes\n",
        "# We need 101 outputs for Caltech-101\n",
        "net.classifier[6] = nn.Linear(4096, NUM_CLASSES) # nn.Linear in pytorch is a fully connected layer\n",
        "                                                 # The convolutional layer is nn.Conv2d\n",
        "\n",
        "# We just changed the last layer of AlexNet with a new fully connected layer with 101 outputs\n",
        "# It is mandatory to study torchvision.models.alexnet source code"
      ],
      "execution_count": 0,
      "outputs": []
    },
    {
      "cell_type": "markdown",
      "metadata": {
        "id": "KEyL3H_R4qCf",
        "colab_type": "text"
      },
      "source": [
        "**Prepare Training**"
      ]
    },
    {
      "cell_type": "code",
      "metadata": {
        "id": "9sjq00G94tSc",
        "colab_type": "code",
        "colab": {}
      },
      "source": [
        "# Define loss function\n",
        "criterion = nn.CrossEntropyLoss() # for classification, we use Cross Entropy\n",
        "\n",
        "# Choose parameters to optimize\n",
        "# To access a different set of parameters, you have to access submodules of AlexNet\n",
        "# (nn.Module objects, like AlexNet, implement the Composite Pattern)\n",
        "# e.g.: parameters of the fully connected layers: net.classifier.parameters()\n",
        "# e.g.: parameters of the convolutional layers: look at alexnet's source code ;) \n",
        "parameters_to_optimize = net.parameters() # In this case we optimize over all the parameters of AlexNet\n",
        "train_conv = net.features.parameters()\n",
        "train_fully_conn = net.classifier.parameters()\n",
        "\n",
        "# Define optimizer\n",
        "# An optimizer updates the weights based on loss\n",
        "# We use SGD with momentum\n",
        "optimizer = optim.SGD(parameters_to_optimize, lr=LR, momentum=MOMENTUM, weight_decay=WEIGHT_DECAY)\n",
        "\n",
        "# Define scheduler\n",
        "# A scheduler dynamically changes learning rate\n",
        "# The most common schedule is the step(-down), which multiplies learning rate by gamma every STEP_SIZE epochs\n",
        "scheduler = optim.lr_scheduler.StepLR(optimizer, step_size=STEP_SIZE, gamma=GAMMA)"
      ],
      "execution_count": 0,
      "outputs": []
    },
    {
      "cell_type": "markdown",
      "metadata": {
        "id": "AxYUli9d9uYQ",
        "colab_type": "text"
      },
      "source": [
        "**Train**"
      ]
    },
    {
      "cell_type": "code",
      "metadata": {
        "id": "ZcoQ5fD49yT_",
        "colab_type": "code",
        "outputId": "c8373611-4e93-4aed-8e7d-1602e65ab1c2",
        "colab": {
          "base_uri": "https://localhost:8080/",
          "height": 1000
        }
      },
      "source": [
        "# By default, everything is loaded to cpu\n",
        "net = net.to(DEVICE) # this will bring the network to GPU if DEVICE is cuda\n",
        "\n",
        "cudnn.benchmark # Calling this optimizes runtime\n",
        "\n",
        "current_step = 0\n",
        "max_accuracy = 0\n",
        "val_accuracies = []\n",
        "losses = []\n",
        "sum_train_losses = 0\n",
        "# Start iterating over the epochs\n",
        "for epoch in range(NUM_EPOCHS):\n",
        "  sum_train_losses = 0\n",
        "  print('Starting epoch {}/{}, LR = {}'.format(epoch+1, NUM_EPOCHS, scheduler.get_lr()))\n",
        "\n",
        "\n",
        "  # Iterate over the dataset\n",
        "  for images, labels in train_dataloader:\n",
        "    #set_trace()\n",
        "    # Bring data over the device of choice\n",
        "    images = images.to(DEVICE)\n",
        "    labels = labels.to(DEVICE)\n",
        "\n",
        "    net.train() # Sets module in training mode\n",
        "\n",
        "    # PyTorch, by default, accumulates gradients after each backward pass\n",
        "    # We need to manually set the gradients to zero before starting a new iteration\n",
        "    optimizer.zero_grad() # Zero-ing the gradients\n",
        "\n",
        "    # Forward pass to the network\n",
        "    outputs = net(images)\n",
        "\n",
        "    # Compute loss based on output and ground truth\n",
        "    loss = criterion(outputs, labels)\n",
        "\n",
        "    # Log loss\n",
        "    if current_step % LOG_FREQUENCY == 0:\n",
        "      print('Step {}, Loss {}'.format(current_step, loss.item()))\n",
        "    sum_train_losses += loss.item()*images.size(0)\n",
        "\n",
        "    # Compute gradients for each layer and update weights\n",
        "    loss.backward()  # backward pass: computes gradients\n",
        "    optimizer.step() # update weights based on accumulated gradients\n",
        "\n",
        "    current_step += 1\n",
        "\n",
        "  #Evaluation on Validation set for each run\n",
        "  net.train(False) # Set Network to evaluation mode\n",
        "\n",
        "  running_corrects = 0\n",
        "  for images, labels in tqdm(val_dataloader):\n",
        "    images = images.to(DEVICE)\n",
        "    labels = labels.to(DEVICE)\n",
        "\n",
        "    # Forward Pass\n",
        "    outputs = net(images)\n",
        "\n",
        "    # Get predictions\n",
        "    _, preds = torch.max(outputs.data, 1)\n",
        "\n",
        "    # Update Corrects\n",
        "    running_corrects += torch.sum(preds == labels.data).data.item()\n",
        "\n",
        "  # Calculate Accuracy\n",
        "  accuracy = running_corrects / float(len(val_dataset_new))\n",
        "  val_accuracies.append(accuracy)\n",
        "  losses.append(sum_train_losses/float(len(train_dataset_new)))\n",
        "\n",
        "  if(accuracy > max_accuracy):\n",
        "    max_accuracy = accuracy\n",
        "    best_epoch = epoch\n",
        "    loss_best_epoch = loss.item()\n",
        "\n",
        "  print('\\nValidation Accuracy: {}'.format(accuracy))\n",
        "  \n",
        "\n",
        "  # Step the scheduler\n",
        "  scheduler.step() \n",
        "\n",
        "\n",
        "plt.show()\n",
        "plt.figure()\n",
        "plt.plot(val_accuracies, marker=\".\", label=\"accuracy\")\n",
        "plt.plot(losses, \"r\", marker=\".\", label=\"losses\")\n",
        "plt.legend(loc=\"upper right\")\n",
        "plt.title(\"Accuracies on ValidationSet. [LR = {}] [Gamma = {}]\".format(LR, GAMMA))\n",
        "plt.xlabel(\"epoch\")\n",
        "plt.ylabel(\"accuracy\")\n",
        "plt.grid(axis='y')\n",
        "plt.show()\n",
        "\n",
        "print('\\nBest Accuracy on Validation set for epoch = {} is: {}, with loss = {} and LR = {}'.format(best_epoch+1, max_accuracy, loss_best_epoch, LR))"
      ],
      "execution_count": 11,
      "outputs": [
        {
          "output_type": "stream",
          "text": [
            "Starting epoch 1/30, LR = [0.01]\n",
            "Step 0, Loss 4.941923141479492\n"
          ],
          "name": "stdout"
        },
        {
          "output_type": "stream",
          "text": [
            "\r  0%|          | 0/11 [00:00<?, ?it/s]"
          ],
          "name": "stderr"
        },
        {
          "output_type": "stream",
          "text": [
            "Step 10, Loss 2.059501886367798\n"
          ],
          "name": "stdout"
        },
        {
          "output_type": "stream",
          "text": [
            "100%|██████████| 11/11 [00:08<00:00,  1.51it/s]"
          ],
          "name": "stderr"
        },
        {
          "output_type": "stream",
          "text": [
            "\n",
            "Validation Accuracy: 0.5463347164591977\n",
            "Starting epoch 2/30, LR = [0.01]\n"
          ],
          "name": "stdout"
        },
        {
          "output_type": "stream",
          "text": [
            "\n"
          ],
          "name": "stderr"
        },
        {
          "output_type": "stream",
          "text": [
            "Step 20, Loss 0.9335706830024719\n"
          ],
          "name": "stdout"
        },
        {
          "output_type": "stream",
          "text": [
            "100%|██████████| 11/11 [00:08<00:00,  1.58it/s]"
          ],
          "name": "stderr"
        },
        {
          "output_type": "stream",
          "text": [
            "\n",
            "Validation Accuracy: 0.7022821576763485\n",
            "Starting epoch 3/30, LR = [0.01]\n"
          ],
          "name": "stdout"
        },
        {
          "output_type": "stream",
          "text": [
            "\n"
          ],
          "name": "stderr"
        },
        {
          "output_type": "stream",
          "text": [
            "Step 30, Loss 0.5316902995109558\n"
          ],
          "name": "stdout"
        },
        {
          "output_type": "stream",
          "text": [
            "100%|██████████| 11/11 [00:08<00:00,  1.53it/s]"
          ],
          "name": "stderr"
        },
        {
          "output_type": "stream",
          "text": [
            "\n",
            "Validation Accuracy: 0.7579529737206085\n",
            "Starting epoch 4/30, LR = [0.01]\n"
          ],
          "name": "stdout"
        },
        {
          "output_type": "stream",
          "text": [
            "\n"
          ],
          "name": "stderr"
        },
        {
          "output_type": "stream",
          "text": [
            "Step 40, Loss 0.23374278843402863\n"
          ],
          "name": "stdout"
        },
        {
          "output_type": "stream",
          "text": [
            "100%|██████████| 11/11 [00:08<00:00,  1.93it/s]"
          ],
          "name": "stderr"
        },
        {
          "output_type": "stream",
          "text": [
            "\n",
            "Validation Accuracy: 0.7531120331950207\n",
            "Starting epoch 5/30, LR = [0.01]\n"
          ],
          "name": "stdout"
        },
        {
          "output_type": "stream",
          "text": [
            "\n"
          ],
          "name": "stderr"
        },
        {
          "output_type": "stream",
          "text": [
            "Step 50, Loss 0.20316849648952484\n"
          ],
          "name": "stdout"
        },
        {
          "output_type": "stream",
          "text": [
            "100%|██████████| 11/11 [00:08<00:00,  1.50it/s]"
          ],
          "name": "stderr"
        },
        {
          "output_type": "stream",
          "text": [
            "\n",
            "Validation Accuracy: 0.7700553250345782\n",
            "Starting epoch 6/30, LR = [0.01]\n"
          ],
          "name": "stdout"
        },
        {
          "output_type": "stream",
          "text": [
            "\n"
          ],
          "name": "stderr"
        },
        {
          "output_type": "stream",
          "text": [
            "Step 60, Loss 0.14595992863178253\n"
          ],
          "name": "stdout"
        },
        {
          "output_type": "stream",
          "text": [
            "100%|██████████| 11/11 [00:08<00:00,  1.55it/s]"
          ],
          "name": "stderr"
        },
        {
          "output_type": "stream",
          "text": [
            "\n",
            "Validation Accuracy: 0.7672890733056709\n",
            "Starting epoch 7/30, LR = [0.01]\n"
          ],
          "name": "stdout"
        },
        {
          "output_type": "stream",
          "text": [
            "\n"
          ],
          "name": "stderr"
        },
        {
          "output_type": "stream",
          "text": [
            "Step 70, Loss 0.10845653712749481\n"
          ],
          "name": "stdout"
        },
        {
          "output_type": "stream",
          "text": [
            "100%|██████████| 11/11 [00:08<00:00,  1.29it/s]"
          ],
          "name": "stderr"
        },
        {
          "output_type": "stream",
          "text": [
            "\n",
            "Validation Accuracy: 0.7724757952973721\n",
            "Starting epoch 8/30, LR = [0.01]\n"
          ],
          "name": "stdout"
        },
        {
          "output_type": "stream",
          "text": [
            "\n"
          ],
          "name": "stderr"
        },
        {
          "output_type": "stream",
          "text": [
            "Step 80, Loss 0.09124748408794403\n"
          ],
          "name": "stdout"
        },
        {
          "output_type": "stream",
          "text": [
            "100%|██████████| 11/11 [00:08<00:00,  1.47it/s]"
          ],
          "name": "stderr"
        },
        {
          "output_type": "stream",
          "text": [
            "\n",
            "Validation Accuracy: 0.7738589211618258\n",
            "Starting epoch 9/30, LR = [0.01]\n"
          ],
          "name": "stdout"
        },
        {
          "output_type": "stream",
          "text": [
            "\n"
          ],
          "name": "stderr"
        },
        {
          "output_type": "stream",
          "text": [
            "Step 90, Loss 0.04744446277618408\n"
          ],
          "name": "stdout"
        },
        {
          "output_type": "stream",
          "text": [
            "100%|██████████| 11/11 [00:08<00:00,  1.54it/s]"
          ],
          "name": "stderr"
        },
        {
          "output_type": "stream",
          "text": [
            "\n",
            "Validation Accuracy: 0.7776625172890733\n",
            "Starting epoch 10/30, LR = [0.01]\n"
          ],
          "name": "stdout"
        },
        {
          "output_type": "stream",
          "text": [
            "\n"
          ],
          "name": "stderr"
        },
        {
          "output_type": "stream",
          "text": [
            "Step 100, Loss 0.028942380100488663\n"
          ],
          "name": "stdout"
        },
        {
          "output_type": "stream",
          "text": [
            "100%|██████████| 11/11 [00:08<00:00,  1.50it/s]"
          ],
          "name": "stderr"
        },
        {
          "output_type": "stream",
          "text": [
            "\n",
            "Validation Accuracy: 0.789073305670816\n",
            "Starting epoch 11/30, LR = [0.01]\n"
          ],
          "name": "stdout"
        },
        {
          "output_type": "stream",
          "text": [
            "\n"
          ],
          "name": "stderr"
        },
        {
          "output_type": "stream",
          "text": [
            "Step 110, Loss 0.021508019417524338\n"
          ],
          "name": "stdout"
        },
        {
          "output_type": "stream",
          "text": [
            "\r  0%|          | 0/11 [00:00<?, ?it/s]"
          ],
          "name": "stderr"
        },
        {
          "output_type": "stream",
          "text": [
            "Step 120, Loss 0.05061619356274605\n"
          ],
          "name": "stdout"
        },
        {
          "output_type": "stream",
          "text": [
            "100%|██████████| 11/11 [00:08<00:00,  1.47it/s]"
          ],
          "name": "stderr"
        },
        {
          "output_type": "stream",
          "text": [
            "\n",
            "Validation Accuracy: 0.7866528354080221\n",
            "Starting epoch 12/30, LR = [0.01]\n"
          ],
          "name": "stdout"
        },
        {
          "output_type": "stream",
          "text": [
            "\n"
          ],
          "name": "stderr"
        },
        {
          "output_type": "stream",
          "text": [
            "Step 130, Loss 0.04484262689948082\n"
          ],
          "name": "stdout"
        },
        {
          "output_type": "stream",
          "text": [
            "100%|██████████| 11/11 [00:08<00:00,  1.51it/s]"
          ],
          "name": "stderr"
        },
        {
          "output_type": "stream",
          "text": [
            "\n",
            "Validation Accuracy: 0.7693637621023514\n",
            "Starting epoch 13/30, LR = [0.01]\n"
          ],
          "name": "stdout"
        },
        {
          "output_type": "stream",
          "text": [
            "\n"
          ],
          "name": "stderr"
        },
        {
          "output_type": "stream",
          "text": [
            "Step 140, Loss 0.04056781530380249\n"
          ],
          "name": "stdout"
        },
        {
          "output_type": "stream",
          "text": [
            "100%|██████████| 11/11 [00:08<00:00,  1.48it/s]"
          ],
          "name": "stderr"
        },
        {
          "output_type": "stream",
          "text": [
            "\n",
            "Validation Accuracy: 0.7835408022130014\n",
            "Starting epoch 14/30, LR = [0.01]\n"
          ],
          "name": "stdout"
        },
        {
          "output_type": "stream",
          "text": [
            "\n"
          ],
          "name": "stderr"
        },
        {
          "output_type": "stream",
          "text": [
            "Step 150, Loss 0.06098879873752594\n"
          ],
          "name": "stdout"
        },
        {
          "output_type": "stream",
          "text": [
            "100%|██████████| 11/11 [00:08<00:00,  1.56it/s]"
          ],
          "name": "stderr"
        },
        {
          "output_type": "stream",
          "text": [
            "\n",
            "Validation Accuracy: 0.7949515905947441\n",
            "Starting epoch 15/30, LR = [0.01]\n"
          ],
          "name": "stdout"
        },
        {
          "output_type": "stream",
          "text": [
            "\n"
          ],
          "name": "stderr"
        },
        {
          "output_type": "stream",
          "text": [
            "Step 160, Loss 0.01935918629169464\n"
          ],
          "name": "stdout"
        },
        {
          "output_type": "stream",
          "text": [
            "100%|██████████| 11/11 [00:08<00:00,  1.52it/s]"
          ],
          "name": "stderr"
        },
        {
          "output_type": "stream",
          "text": [
            "\n",
            "Validation Accuracy: 0.7883817427385892\n",
            "Starting epoch 16/30, LR = [0.01]\n"
          ],
          "name": "stdout"
        },
        {
          "output_type": "stream",
          "text": [
            "\n"
          ],
          "name": "stderr"
        },
        {
          "output_type": "stream",
          "text": [
            "Step 170, Loss 0.017495669424533844\n"
          ],
          "name": "stdout"
        },
        {
          "output_type": "stream",
          "text": [
            "100%|██████████| 11/11 [00:08<00:00,  1.51it/s]"
          ],
          "name": "stderr"
        },
        {
          "output_type": "stream",
          "text": [
            "\n",
            "Validation Accuracy: 0.7835408022130014\n",
            "Starting epoch 17/30, LR = [0.01]\n"
          ],
          "name": "stdout"
        },
        {
          "output_type": "stream",
          "text": [
            "\n"
          ],
          "name": "stderr"
        },
        {
          "output_type": "stream",
          "text": [
            "Step 180, Loss 0.043210145086050034\n"
          ],
          "name": "stdout"
        },
        {
          "output_type": "stream",
          "text": [
            "100%|██████████| 11/11 [00:08<00:00,  1.30it/s]"
          ],
          "name": "stderr"
        },
        {
          "output_type": "stream",
          "text": [
            "\n",
            "Validation Accuracy: 0.793222683264177\n",
            "Starting epoch 18/30, LR = [0.01]\n"
          ],
          "name": "stdout"
        },
        {
          "output_type": "stream",
          "text": [
            "\n"
          ],
          "name": "stderr"
        },
        {
          "output_type": "stream",
          "text": [
            "Step 190, Loss 0.010960213840007782\n"
          ],
          "name": "stdout"
        },
        {
          "output_type": "stream",
          "text": [
            "100%|██████████| 11/11 [00:08<00:00,  1.45it/s]"
          ],
          "name": "stderr"
        },
        {
          "output_type": "stream",
          "text": [
            "\n",
            "Validation Accuracy: 0.7959889349930843\n",
            "Starting epoch 19/30, LR = [0.01]\n"
          ],
          "name": "stdout"
        },
        {
          "output_type": "stream",
          "text": [
            "\n"
          ],
          "name": "stderr"
        },
        {
          "output_type": "stream",
          "text": [
            "Step 200, Loss 0.022650275379419327\n"
          ],
          "name": "stdout"
        },
        {
          "output_type": "stream",
          "text": [
            "100%|██████████| 11/11 [00:08<00:00,  1.48it/s]"
          ],
          "name": "stderr"
        },
        {
          "output_type": "stream",
          "text": [
            "\n",
            "Validation Accuracy: 0.784923928077455\n",
            "Starting epoch 20/30, LR = [0.01]\n"
          ],
          "name": "stdout"
        },
        {
          "output_type": "stream",
          "text": [
            "\n"
          ],
          "name": "stderr"
        },
        {
          "output_type": "stream",
          "text": [
            "Step 210, Loss 0.04682284593582153\n"
          ],
          "name": "stdout"
        },
        {
          "output_type": "stream",
          "text": [
            "100%|██████████| 11/11 [00:08<00:00,  1.30it/s]\n"
          ],
          "name": "stderr"
        },
        {
          "output_type": "stream",
          "text": [
            "\n",
            "Validation Accuracy: 0.7921853388658368\n",
            "Starting epoch 21/30, LR = [0.008]\n",
            "Step 220, Loss 0.01304013654589653\n"
          ],
          "name": "stdout"
        },
        {
          "output_type": "stream",
          "text": [
            "\r  0%|          | 0/11 [00:00<?, ?it/s]"
          ],
          "name": "stderr"
        },
        {
          "output_type": "stream",
          "text": [
            "Step 230, Loss 0.015416000038385391\n"
          ],
          "name": "stdout"
        },
        {
          "output_type": "stream",
          "text": [
            "100%|██████████| 11/11 [00:08<00:00,  1.49it/s]"
          ],
          "name": "stderr"
        },
        {
          "output_type": "stream",
          "text": [
            "\n",
            "Validation Accuracy: 0.8015214384508991\n",
            "Starting epoch 22/30, LR = [0.008]\n"
          ],
          "name": "stdout"
        },
        {
          "output_type": "stream",
          "text": [
            "\n"
          ],
          "name": "stderr"
        },
        {
          "output_type": "stream",
          "text": [
            "Step 240, Loss 0.001399308443069458\n"
          ],
          "name": "stdout"
        },
        {
          "output_type": "stream",
          "text": [
            "100%|██████████| 11/11 [00:08<00:00,  1.55it/s]"
          ],
          "name": "stderr"
        },
        {
          "output_type": "stream",
          "text": [
            "\n",
            "Validation Accuracy: 0.8001383125864454\n",
            "Starting epoch 23/30, LR = [0.008]\n"
          ],
          "name": "stdout"
        },
        {
          "output_type": "stream",
          "text": [
            "\n"
          ],
          "name": "stderr"
        },
        {
          "output_type": "stream",
          "text": [
            "Step 250, Loss 0.02213769406080246\n"
          ],
          "name": "stdout"
        },
        {
          "output_type": "stream",
          "text": [
            "100%|██████████| 11/11 [00:08<00:00,  2.00it/s]"
          ],
          "name": "stderr"
        },
        {
          "output_type": "stream",
          "text": [
            "\n",
            "Validation Accuracy: 0.7949515905947441\n",
            "Starting epoch 24/30, LR = [0.008]\n"
          ],
          "name": "stdout"
        },
        {
          "output_type": "stream",
          "text": [
            "\n"
          ],
          "name": "stderr"
        },
        {
          "output_type": "stream",
          "text": [
            "Step 260, Loss 0.007737204432487488\n"
          ],
          "name": "stdout"
        },
        {
          "output_type": "stream",
          "text": [
            "100%|██████████| 11/11 [00:08<00:00,  1.30it/s]\n"
          ],
          "name": "stderr"
        },
        {
          "output_type": "stream",
          "text": [
            "\n",
            "Validation Accuracy: 0.7956431535269709\n",
            "Starting epoch 25/30, LR = [0.008]\n",
            "Step 270, Loss 0.013832271099090576\n"
          ],
          "name": "stdout"
        },
        {
          "output_type": "stream",
          "text": [
            "100%|██████████| 11/11 [00:08<00:00,  1.55it/s]"
          ],
          "name": "stderr"
        },
        {
          "output_type": "stream",
          "text": [
            "\n",
            "Validation Accuracy: 0.8004840940525588\n",
            "Starting epoch 26/30, LR = [0.008]\n"
          ],
          "name": "stdout"
        },
        {
          "output_type": "stream",
          "text": [
            "\n"
          ],
          "name": "stderr"
        },
        {
          "output_type": "stream",
          "text": [
            "Step 280, Loss 0.009934518486261368\n"
          ],
          "name": "stdout"
        },
        {
          "output_type": "stream",
          "text": [
            "100%|██████████| 11/11 [00:08<00:00,  2.16it/s]"
          ],
          "name": "stderr"
        },
        {
          "output_type": "stream",
          "text": [
            "\n",
            "Validation Accuracy: 0.8022130013831259\n",
            "Starting epoch 27/30, LR = [0.008]\n"
          ],
          "name": "stdout"
        },
        {
          "output_type": "stream",
          "text": [
            "\n"
          ],
          "name": "stderr"
        },
        {
          "output_type": "stream",
          "text": [
            "Step 290, Loss 0.010144859552383423\n"
          ],
          "name": "stdout"
        },
        {
          "output_type": "stream",
          "text": [
            "100%|██████████| 11/11 [00:08<00:00,  1.30it/s]"
          ],
          "name": "stderr"
        },
        {
          "output_type": "stream",
          "text": [
            "\n",
            "Validation Accuracy: 0.8029045643153527\n",
            "Starting epoch 28/30, LR = [0.008]\n"
          ],
          "name": "stdout"
        },
        {
          "output_type": "stream",
          "text": [
            "\n"
          ],
          "name": "stderr"
        },
        {
          "output_type": "stream",
          "text": [
            "Step 300, Loss 0.009291965514421463\n"
          ],
          "name": "stdout"
        },
        {
          "output_type": "stream",
          "text": [
            "100%|██████████| 11/11 [00:08<00:00,  1.44it/s]"
          ],
          "name": "stderr"
        },
        {
          "output_type": "stream",
          "text": [
            "\n",
            "Validation Accuracy: 0.7973720608575381\n",
            "Starting epoch 29/30, LR = [0.008]\n"
          ],
          "name": "stdout"
        },
        {
          "output_type": "stream",
          "text": [
            "\n"
          ],
          "name": "stderr"
        },
        {
          "output_type": "stream",
          "text": [
            "Step 310, Loss 0.006732441484928131\n"
          ],
          "name": "stdout"
        },
        {
          "output_type": "stream",
          "text": [
            "100%|██████████| 11/11 [00:08<00:00,  1.32it/s]\n"
          ],
          "name": "stderr"
        },
        {
          "output_type": "stream",
          "text": [
            "\n",
            "Validation Accuracy: 0.7935684647302904\n",
            "Starting epoch 30/30, LR = [0.008]\n",
            "Step 320, Loss 0.013227090239524841\n"
          ],
          "name": "stdout"
        },
        {
          "output_type": "stream",
          "text": [
            "100%|██████████| 11/11 [00:08<00:00,  1.99it/s]\n"
          ],
          "name": "stderr"
        },
        {
          "output_type": "stream",
          "text": [
            "\n",
            "Validation Accuracy: 0.7935684647302904\n"
          ],
          "name": "stdout"
        },
        {
          "output_type": "display_data",
          "data": {
            "image/png": "[encoded data removed]",
            "text/plain": [
              "<Figure size 432x288 with 1 Axes>"
            ]
          },
          "metadata": {
            "tags": []
          }
        },
        {
          "output_type": "stream",
          "text": [
            "\n",
            "Best Accuracy on Validation set for epoch = 27 is: 0.8029045643153527, with loss = 0.0012445300817489624 and LR = 0.01\n"
          ],
          "name": "stdout"
        }
      ]
    },
    {
      "cell_type": "markdown",
      "metadata": {
        "id": "UsHFI-GAJd69",
        "colab_type": "text"
      },
      "source": [
        "**Test**"
      ]
    },
    {
      "cell_type": "code",
      "metadata": {
        "id": "EO3HV5pqJg1o",
        "colab_type": "code",
        "colab": {
          "base_uri": "https://localhost:8080/",
          "height": 51
        },
        "outputId": "f497e867-d54e-4038-dcda-c7dadc3f8dd9"
      },
      "source": [
        "net = net.to(DEVICE) # this will bring the network to GPU if DEVICE is cuda\n",
        "net.train(False) # Set Network to evaluation mode\n",
        "\n",
        "running_corrects = 0\n",
        "for images, labels in tqdm(test_dataloader):\n",
        "  images = images.to(DEVICE)\n",
        "  labels = labels.to(DEVICE)\n",
        "\n",
        "  # Forward Pass\n",
        "  outputs = net(images)\n",
        "\n",
        "  # Get predictions\n",
        "  _, preds = torch.max(outputs.data, 1)\n",
        "\n",
        "  # Update Corrects\n",
        "  running_corrects += torch.sum(preds == labels.data).data.item()\n",
        "\n",
        "# Calculate Accuracy\n",
        "accuracy = running_corrects / float(len(test_dataset))\n",
        "\n",
        "print('Test Accuracy: {}'.format(accuracy))"
      ],
      "execution_count": 12,
      "outputs": [
        {
          "output_type": "stream",
          "text": [
            "100%|██████████| 12/12 [00:08<00:00,  1.49it/s]"
          ],
          "name": "stderr"
        },
        {
          "output_type": "stream",
          "text": [
            "Test Accuracy: 0.8434151399930868\n"
          ],
          "name": "stdout"
        },
        {
          "output_type": "stream",
          "text": [
            "\n"
          ],
          "name": "stderr"
        }
      ]
    }
  ]
}